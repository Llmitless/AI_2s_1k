{
  "nbformat": 4,
  "nbformat_minor": 0,
  "metadata": {
    "colab": {
      "provenance": [],
      "authorship_tag": "ABX9TyMfej9L1eT14lE+LD8Letve",
      "include_colab_link": true
    },
    "kernelspec": {
      "name": "python3",
      "display_name": "Python 3"
    },
    "language_info": {
      "name": "python"
    }
  },
  "cells": [
    {
      "cell_type": "markdown",
      "metadata": {
        "id": "view-in-github",
        "colab_type": "text"
      },
      "source": [
        "<a href=\"https://colab.research.google.com/github/Llmitless/AI_2s_1k/blob/main/Anisimov_Workbook1_ipynb\" target=\"_parent\"><img src=\"https://colab.research.google.com/assets/colab-badge.svg\" alt=\"Open In Colab\"/></a>"
      ]
    },
    {
      "cell_type": "markdown",
      "source": [
        "1.1. Теоретический материал – Типы данных\n",
        "Типы данных\n",
        "Все типы данных в Python относятся к одной из 2-х категорий:\n",
        "изменяемые (mutable) и неизменяемые (immutable).\n",
        "Неизменяемые объекты:\n",
        " числовые данные (int, float),\n",
        " bool,\n",
        " None,\n",
        " символьные строки (class 'str'),\n",
        " кортежи (tuple).\n",
        "Изменяемые объекты:\n",
        " списки (list),\n",
        " множества (set),\n",
        " словари (dict).\n"
      ],
      "metadata": {
        "id": "tTx2CUkDsxLu"
      }
    },
    {
      "cell_type": "markdown",
      "source": [
        "1.2. Выведите на печать и определите тип переменной."
      ],
      "metadata": {
        "id": "weogu_-stF8u"
      }
    },
    {
      "cell_type": "code",
      "source": [
        "\n",
        "x=3+5.2*7\n",
        "y=None\n",
        "z='a',5,12.345,(2,'b')\n",
        "df=[['Антонова Антонина', 34, 'ж'],['Борисов Борис',26,'м']]\n",
        "A={1,'title',2,'content'}\n",
        "print(x,'|',type(x),'\\n',y,'|',type(y),'\\n',\n",
        "      z,'|',type(z),'\\n',df,'|',type(df), '\\n',A,'|',type(a))"
      ],
      "metadata": {
        "id": "W_-mkGGAi_L1",
        "outputId": "36e54b08-9644-4184-92bd-ae5d405f58cf",
        "colab": {
          "base_uri": "https://localhost:8080/",
          "height": 130
        }
      },
      "execution_count": null,
      "outputs": [
        {
          "output_type": "error",
          "ename": "SyntaxError",
          "evalue": "ignored",
          "traceback": [
            "\u001b[0;36m  File \u001b[0;32m\"<ipython-input-1-e20fb0ec1c3a>\"\u001b[0;36m, line \u001b[0;32m1\u001b[0m\n\u001b[0;31m    1.2. Выведите на печать и определите тип переменной.\u001b[0m\n\u001b[0m                  ^\u001b[0m\n\u001b[0;31mSyntaxError\u001b[0m\u001b[0;31m:\u001b[0m invalid syntax\n"
          ]
        }
      ]
    },
    {
      "cell_type": "markdown",
      "source": [
        "1.3. Задание Задача: Выведите на печать и определите тип переменнойю"
      ],
      "metadata": {
        "id": "IztpKGRStMva"
      }
    },
    {
      "cell_type": "code",
      "source": [
        "\n",
        "x=5 >=2\n",
        "A={1,3,7,8}\n",
        "B={2,4,5,10,'apple'}\n",
        "C=A&B\n",
        "df='Антонова Антонина',34,''\n",
        "z='type'\n",
        "D=[1,'title',2,'content']\n",
        "print (x, '|', type(x), '\\n', A, '|', type(A), '\\n',   B, '|', type(B), '\\n', df, '|', type(df), '\\n',   C, '|', type(C), D, '|', type(D))  "
      ],
      "metadata": {
        "id": "X3AOgX-XlXFE"
      },
      "execution_count": null,
      "outputs": []
    },
    {
      "cell_type": "markdown",
      "source": [
        "2.1. Теоретический материал – Условный оператор\n",
        "If – Условный оператор\n",
        "В коде часто приходится проверять выполнимость или\n",
        "невыполнимость каких-то условий. Синтаксис:\n",
        "if <условие1 (булевское выражение)> :\n",
        " <код, который выполнится, если условие верно>\n",
        "elif <условие2 (булевское выражение)>:\n",
        " <код, который выполнится, если условие1 было неверно, а\n",
        "условие2 верно>\n",
        "else:\n",
        " <код, который выполнится, если условие1 и условие2 были\n",
        "неверны>\n",
        "Обратите внимание, что код, который должен выполняться внутри\n",
        "каждого условия, записывается с отступом в 4 пробела от уровня if, elif и\n",
        "else: в питоне области видимости переменных обозначаются отступами.\n",
        "2.2. Пример\n",
        "1. Задача:\n",
        "Вывести на экран является ли переменная х положительной,\n",
        "отрицательной или равна нулю."
      ],
      "metadata": {
        "id": "Echsg0mjliQK"
      }
    },
    {
      "cell_type": "code",
      "source": [
        "\n",
        "x=125\n",
        "if x<0:\n",
        "  print(\"x отрицательный\")\n",
        "elif x==0:\n",
        "  print(\"x равен\")\n",
        "elif:\n",
        "  print(\"x положительный\")"
      ],
      "metadata": {
        "id": "CwXnAOvTllty"
      },
      "execution_count": null,
      "outputs": []
    },
    {
      "cell_type": "markdown",
      "source": [
        "2.3. Задание\n",
        "Задача:\n",
        "Напишите код. Задается х, напечатать какому из интервалов\n",
        "принадлежит: (-infinity, -5), [-5, 5] или от (5, +infinity)"
      ],
      "metadata": {
        "id": "L0LgRCIEmR5n"
      }
    },
    {
      "cell_type": "code",
      "source": [
        "x=125\n",
        "if x< -5:\n",
        "print(\" x принадлежит: (-infinity, -5)\" )\n",
        "elif x> 5:\n",
        "print(\" x принадлежит: (5, +infinity)\" \n",
        "else:\n",
        "print (\" x принадлежит [-5, 5] \" )"
      ],
      "metadata": {
        "id": "lSiULfjMmWOl"
      },
      "execution_count": null,
      "outputs": []
    },
    {
      "cell_type": "markdown",
      "source": [
        "3.1. Теоретический материал – Циклы, массивы, срезы\n",
        "Циклы - for и while\n",
        "Цикл while проверяет истинность условия, и если условие истинно, то\n",
        "выполняет инструкции цикла.\n",
        "Синтаксис:\n",
        "while условие:\n",
        " инструкции\n",
        "Инструкции, которые относятся к циклу while, располагаются на\n",
        "последующих строках и должны иметь отступ от начала ключевого слова\n",
        "while.\n",
        "Цикл for проходит по набору значений, помещает каждое значение в\n",
        "переменную с которой в цикле можно производить различные действия.\n",
        "Синтаксис:\n",
        "for переменная in набор_значений:\n",
        " инструкции\n",
        "После ключевого слова for идет название переменной, в которую\n",
        "будут помещаться значения. После оператора in указывается набор значений\n",
        "и двоеточие. Инструкции, которые относятся к циклу, располагаются на\n",
        "последующих строках и должны иметь отступ.\n",
        "При создании цикла удобно пользоваться функцией range(a, b),\n",
        "которая создает последовательность чисел от a до b-1."
      ],
      "metadata": {
        "id": "p9YFAfDGmWll"
      }
    },
    {
      "cell_type": "markdown",
      "source": [
        "3.2.1. Пример Задача: Вывести все числа от 1 до 10 с шагом 3 "
      ],
      "metadata": {
        "id": "byf7MKWVtYAJ"
      }
    },
    {
      "cell_type": "code",
      "source": [
        "\n",
        "x=1\n",
        "while x<=10:\n",
        "  print(x)\n",
        "  x+=3"
      ],
      "metadata": {
        "id": "3WQXLH-omaBp"
      },
      "execution_count": null,
      "outputs": []
    },
    {
      "cell_type": "markdown",
      "source": [
        "3.2.2. Пример Задача: Задан список."
      ],
      "metadata": {
        "id": "djYubdfIml2I"
      }
    },
    {
      "cell_type": "code",
      "source": [
        "\n",
        "models = ['KNN','decision tree', 'linear model']\n",
        "for model in models:\n",
        "  print(model)"
      ],
      "metadata": {
        "id": "nMF5nkCvmq5y"
      },
      "execution_count": null,
      "outputs": []
    },
    {
      "cell_type": "markdown",
      "source": [
        "3.2.3. Пример Задача: Создать список от 1 до 99 с шагом 7."
      ],
      "metadata": {
        "id": "pFeupeG3tgP5"
      }
    },
    {
      "cell_type": "code",
      "source": [
        "\n",
        "list_int = range(1, 100, 7)\n",
        "print(list(list_int))"
      ],
      "metadata": {
        "id": "CpgogjWjnAbt"
      },
      "execution_count": null,
      "outputs": []
    },
    {
      "cell_type": "markdown",
      "source": [
        "3.2.4. Пример\n",
        "Задача:\n",
        "Вывести на экран числа от 1 до 105 с шагом 25, используя функцию"
      ],
      "metadata": {
        "id": "9EA-yQdxtg8I"
      }
    },
    {
      "cell_type": "code",
      "source": [
        "\n",
        "range()\n",
        "for i in range(5, 106, 25)\n",
        "print(i)"
      ],
      "metadata": {
        "id": "Xl3RUXEcnOzk"
      },
      "execution_count": null,
      "outputs": []
    },
    {
      "cell_type": "markdown",
      "source": [
        "3.2.5. Пример\n",
        "Задача:\n",
        "Срез. Необходимо получить каждый k-й элемент массива a, начиная с\n",
        "элемента с индексом i (включительно) и заканчивая элементом с\n",
        "индексом j (не включительно), c шагом 2. Или переставить все\n",
        "элементы в обратном порядке."
      ],
      "metadata": {
        "id": "l0XbeT2Wthix"
      }
    },
    {
      "cell_type": "code",
      "source": [
        "\n",
        "a=[1,2,3,4,5,6,7,8,9]\n",
        "b = a[1:7:2]\n",
        "c=a[::-1]\n",
        "print(b)\n",
        "print(c)"
      ],
      "metadata": {
        "id": "Ft2OGazYnYDn"
      },
      "execution_count": null,
      "outputs": []
    },
    {
      "cell_type": "markdown",
      "source": [
        "3.3.1 Задание Задача: Выведите числа из примера на while (3.2.1) в обратном порядке."
      ],
      "metadata": {
        "id": "PIuHOu5Hth5d"
      }
    },
    {
      "cell_type": "code",
      "source": [
        "\n",
        "x=10\n",
        "while x> =1:\n",
        "print(x)\n",
        "x-=3\n"
      ],
      "metadata": {
        "id": "U_rwg6GSoZiL"
      },
      "execution_count": null,
      "outputs": []
    },
    {
      "cell_type": "markdown",
      "source": [
        "3.3.2 Задание Задача: При решении задач машинного обучения часто в качестве объектов исследования выступает человек. Создайте список значимых характеристик (признаков), идентифицирующих человека. Выведите список на экран.\n",
        "\n"
      ],
      "metadata": {
        "id": "Me_O8M0NtiUd"
      }
    },
    {
      "cell_type": "code",
      "source": [
        "\n",
        "chelovek = [ 'возраст', 'инициалы', 'пол', 'год рождения']\n",
        "for chelovek in chelovek:\n",
        "print(chelovek)"
      ],
      "metadata": {
        "id": "pVneArvKodCs"
      },
      "execution_count": null,
      "outputs": []
    },
    {
      "cell_type": "markdown",
      "source": [
        "3.3.3 Задание\n",
        "Задача:\n",
        "Создать список чисел от 2 до 15 с шагом 1."
      ],
      "metadata": {
        "id": "s1COBspVtitM"
      }
    },
    {
      "cell_type": "code",
      "source": [
        "\n",
        "x=2\n",
        "while x< =15:\n",
        "print(x)\n",
        "x+=1"
      ],
      "metadata": {
        "id": "eY8MyHf7ohOC"
      },
      "execution_count": null,
      "outputs": []
    },
    {
      "cell_type": "markdown",
      "source": [
        "3.3.4 Задание Задача: Выведите числа из примера на for c функцией range() (3.2.4) в обратном порядке."
      ],
      "metadata": {
        "id": "z3v5Ihy-tjEP"
      }
    },
    {
      "cell_type": "code",
      "source": [
        "\n",
        "for i in range (105, 4, -25):\n",
        "print(i)"
      ],
      "metadata": {
        "id": "jM6HzZtHokha"
      },
      "execution_count": null,
      "outputs": []
    },
    {
      "cell_type": "markdown",
      "source": [
        "3.3.5 Задание\n",
        "Задача:\n",
        "Срез. Напишите код, который все элементы массива x с четными\n",
        "индексами переставит в обратном порядке. Т.е. если x = [0, 1, 2, 3, 4,\n",
        "5, 6, 7, 8, 9], то код должен сформировать [8, 1, 6, 3, 4, 5, 2, 7, 0, 9]."
      ],
      "metadata": {
        "id": "JiNrmTx9tjmG"
      }
    },
    {
      "cell_type": "code",
      "source": [
        "\n",
        "x = [0, 1, 2, 3, 4, 5, 6, 7, 8, 9]\n",
        "x[0:: 2] = reversed(x[0:: 2])\n",
        "print(x)"
      ],
      "metadata": {
        "id": "OCpi0PDLonP5"
      },
      "execution_count": null,
      "outputs": []
    },
    {
      "cell_type": "markdown",
      "source": [
        "4.1. Теоретический материал - Библиотеки\n",
        "Машинное обучение опирается на фундаментальные понятия и законы\n",
        "математики и информатики. Библиотека математических функций (math)\n",
        "применяется при решении большинства прикладных задач анализа данных.\n",
        "Также, и некоторые другие библиотеки Python содержат математические\n",
        "функции (например, NumPy). Важную роль играет библиотека matplotlib,\n",
        "которая позволяет производить визуализацию расчетов в удобной для\n",
        "восприятия человеком форме: графики, диаграммы, гистограммы.\n",
        "Подключение библиотек – синтаксис:\n",
        "import math as m\n",
        "import numpy as np\n",
        "import matplotlib.pyplot as plt\n",
        "etc…\n",
        "Библиотеки в python содержат не только функции, позволяющие решать\n",
        "различные задачи, но и некоторые популярные константы, например число\n",
        "Эйлера."
      ],
      "metadata": {
        "id": "x9CtgjA6opRn"
      }
    },
    {
      "cell_type": "markdown",
      "source": [
        "4.2.1 Пример\n",
        "Задача:\n",
        "Рассчитать синус от е радиан и вывести результат на экран"
      ],
      "metadata": {
        "id": "iYz3cgTBvvNL"
      }
    },
    {
      "cell_type": "code",
      "source": [
        "\n",
        "import math as m\n",
        "print (m.sin(m.e))"
      ],
      "metadata": {
        "id": "o8-o2YEIosjv"
      },
      "execution_count": null,
      "outputs": []
    },
    {
      "cell_type": "markdown",
      "source": [
        "4.2.2 Пример\n",
        "Задача:\n",
        "Для функции sin(𝑥𝑒\n",
        "cos(𝑥)\n",
        ") на интервале [0;10] с шагом 0,05 построить\n",
        "график функции, закрасить площадь под ним и вычислить значение\n",
        "этой площади.\n",
        "Для вычисления площади воспользуйте функции trapz(), вычисляющей\n",
        "интеграл по правилу трапеции. Для ее корректной работы необходимо\n",
        "подключить следующие библиотеки:\n",
        "from scipy.integrate import simps\n",
        "from numpy import trapz\n"
      ],
      "metadata": {
        "id": "3jCAR_lTpKbw"
      }
    },
    {
      "cell_type": "code",
      "source": [
        "import nimpy as np\n",
        "import matplotlib.pyplot as plt\n",
        "from scipy.integrate import simps\n",
        "from numpy import trapz\n",
        "x=np.arang(0.0, 10, 0.1)\n",
        "y=np.abs(np.sin(x*np.exp(np.cos(x))))\n",
        "plt.grid()\n",
        "plt.plot(x,y,c=\"r\")\n",
        "plt.fill_between(x,y)\n",
        "\n",
        "area=trapz(y)\n",
        "print(area)"
      ],
      "metadata": {
        "id": "Ak_HZRG8pMpU"
      },
      "execution_count": null,
      "outputs": []
    },
    {
      "cell_type": "markdown",
      "source": [
        "4.2.3 Пример\n",
        "Задача:\n",
        "Дано некоторое распределение оценок в группе за экзамен. Нарисовать\n",
        "круговую и точечную диаграммы распределения. "
      ],
      "metadata": {
        "id": "f4NcYRlnwFWY"
      }
    },
    {
      "cell_type": "code",
      "source": [
        "\n",
        "from matplotlib import pyplot as plt\n",
        "import numpy as np\n",
        "\n",
        "marks=['Неуд','Удовл','Хор','Отл']\n",
        "\n",
        "data= [3,7,8,4]\n",
        "fig= plt.figure(figsize=(10,7))\n",
        "plt.pie(data, labels= marks)\n",
        "plt.show()\n",
        "plt.grid()\n",
        "plt.scatter(marks,data)"
      ],
      "metadata": {
        "id": "M-3JLaQprP3Z"
      },
      "execution_count": null,
      "outputs": []
    },
    {
      "cell_type": "markdown",
      "source": [
        "4.3.1 Задание\n",
        "1. Задача:\n",
        "Задайте массив случайных значений из интервала(0; 1).\n",
        "Рассчитайте средние и медианные значения для массива, сравните\n",
        "результаты, какие выводы можно сделать о значениях?\n",
        "Постройте точечную диаграмму рассения полученного ряда."
      ],
      "metadata": {
        "id": "znvMgzIHwJ_I"
      }
    },
    {
      "cell_type": "code",
      "source": [
        "\n",
        "%matplotlib inline\n",
        "from matplotlib import pyplot as plt\n",
        "import numpy as np\n",
        "from scipy. integrate import simps\n",
        "from numpy import trapz\n",
        "import random\n",
        "median_array = []\n",
        "n, m, sum = 1, 3, 0\n",
        "x = np. abs([random. random() for _ in range(m) for _ in range(n)])\n",
        "print (\" x\", x)\n",
        "median_array = sorted(x)\n",
        "print(\" Отсортированный массив\", median_array)\n",
        "if m % 2 == 0:\n",
        "mediana = (median_array[m//2-1] + median_array[m//2])/2\n",
        "else:\n",
        "mediana = median_array[m//2]\n",
        "print(\" Медиана\", mediana)\n",
        "for i in range(m):\n",
        "sum += x[i]\n",
        "print (\" Среднее значение\", sum/m)\n",
        "plt. grid()\n",
        "plt. scatter(median_array, median_array)"
      ],
      "metadata": {
        "id": "jWGlvBZBsCof"
      },
      "execution_count": null,
      "outputs": []
    },
    {
      "cell_type": "markdown",
      "source": [
        "4.3.2 Задание\n",
        "1. Задача:\n",
        "Дана функция f(x)\n",
        "Создать массив из 10 значений\n",
        "функции (𝑥, например, изменяется от 1 до 10). Выделить срез первой\n",
        "половины массива и построить графики для основного массива –\n",
        "линейный и для среза – точечный"
      ],
      "metadata": {
        "id": "YpoRuY21xA5F"
      }
    },
    {
      "cell_type": "code",
      "source": [
        "\n",
        "%matplotlib inline\n",
        "from matplotlib import pyplot as plt\n",
        "import numpy as np\n",
        "from scipy. integrate import simps\n",
        "from numpy import trapz\n",
        "import random\n",
        "n, m = 1, 10\n",
        "x = np. abs( [random. randint(1, 10) for _ in range(m) for _ in range(n)])\n",
        "print (\" x\", x)\n",
        "y = np. abs(((np. sqrt(1+np. exp(np. sqrt(x))+np. cos(x**2)))/(np. fabs(1-(np. sin(x))**3)))+np. log(np. fabs(2*x)))\n",
        "print (\" y\", y)\n",
        "x2 = x[0: 5: 1]\n",
        "print (\" x2\", x2)\n",
        "y2 = np. abs(((np. sqrt(1+np. exp(np. sqrt(x2))+np. cos(x2**2)))/(np. fabs(1-(np. sin(x2))**3)))+np. log(np. fabs(2*x2)))\n",
        "print (\" y2\", y2)\n",
        "plt. grid()\n",
        "plt. plot(x, y)\n",
        "#plt. fill_between(x, y)\n",
        "plt. show()\n",
        "plt. grid()\n",
        "plt. scatter (x2, y2)"
      ],
      "metadata": {
        "id": "VIRvPTIdsEzp"
      },
      "execution_count": null,
      "outputs": []
    },
    {
      "cell_type": "markdown",
      "source": [
        "4.3.3 Задание\n",
        "1. Задача:\n",
        "Дана функция |cos(𝑥𝑒^(cos(𝑥)+ln(𝑥+1))\n",
        ")| Построить график на\n",
        "интервале (0,10) с шагом 1 с заливкой площади и найти эту площадь\n",
        "под ним. Для вычисления площади воспользуйте функции trapz(),\n",
        "вычисляющей интеграл по правилу трапеции.\n",
        "Для ее корректной работы необходимо подключить следующие\n",
        "библиотеки:\n",
        "from scipy.integrate import simps\n",
        "from numpy import trapz"
      ],
      "metadata": {
        "id": "VvwcvNOgxDJM"
      }
    },
    {
      "cell_type": "code",
      "source": [
        "\n",
        "%matplotlib inline\n",
        "import numpy as np\n",
        "import matplotlib. pyplot as plt\n",
        "from scipy. integrate import simps\n",
        "from numpy import trapz\n",
        "x = np. arange(1, 10, 1)\n",
        "y = np. abs(np. fabs(np. cos(x*np. exp(np. cos(x)+np. log(x+1)))))\n",
        "plt. grid()\n",
        "plt. plot(x, y, c = \" r\" )\n",
        "plt. fill_between(x, y)\n",
        "area = trapz(y)\n",
        "print(area)"
      ],
      "metadata": {
        "id": "s4l0diKxsWqU"
      },
      "execution_count": null,
      "outputs": []
    },
    {
      "cell_type": "markdown",
      "source": [
        "4.3.4 Задание\n",
        "1. Задача:\n",
        "Откройте статистические данные по стоимости акций Apple,\n",
        "Microsoft, Google за 12 месяцев 2021 г. Постройте 3 графика на\n",
        "плоскости и оцените их динамику. Подумайте, как можно улучшить\n",
        "читаемость результатов.\n",
        "Для начальных данных допустимо использовать следующий ресурс:\n",
        "https://finance.yahoo.com"
      ],
      "metadata": {
        "id": "Pww6-PHDxKBc"
      }
    },
    {
      "cell_type": "code",
      "source": [
        "\n",
        "%matplotlib inline\n",
        "from matplotlib import pyplot as plt\n",
        "import numpy as np\n",
        "APPLE = [131. 99, 121. 88, 122. 18, 131. 5, 124. 67, 137. 02, 145. 84, 151. 92, 141. 71, 149. 87, 166. 44, 177. 51]\n",
        "Microsoft = [231. 79, 232. 42, 237. 55, 252. 12, 250, 270. 98, 285, 302. 14, 282. 26, 331. 83, 333. 49, 336. 27]\n",
        "Google =[91. 35, 101. 1, 103. 2, 117. 88, 117. 85, 122. 1, 134. 7, 144. 83, 133. 78, 148, 142. 76, 145. 05] \n",
        "mes = [1, 2, 3, 4, 5, 6, 7, 8, 9, 10, 11, 12]\n",
        "plt. plot(mes, Microsoft, c = \" r\" )\n",
        "plt. plot(mes, APPLE, c = \" g\" )\n",
        "plt. plot(mes, Google, c = \" b\" )\n",
        "plt. grid()"
      ],
      "metadata": {
        "id": "oPuxciH7sdxy"
      },
      "execution_count": null,
      "outputs": []
    },
    {
      "cell_type": "markdown",
      "source": [
        "4.3.5 Задание\n",
        "1. Задача:\n",
        "Создайте простейший калькулятор, включающий основные действия\n",
        "для двух переменных ′ + ′, ′ − ′, ′ ∙ ′, ′ ÷ ′, а также вычисление\n",
        "следующих функций: f(x)"
      ],
      "metadata": {
        "id": "uasRtkepxN71"
      }
    },
    {
      "cell_type": "code",
      "source": [
        "\n",
        "import numpy as np\n",
        "for i in range (10000000):\n",
        "print('Будете вводить опереацию? 1/0')\n",
        "otv = float(input('otv = '))\n",
        "if otv == 1:\n",
        "   s = input(\" Знак (+, -, *, /, stepen, sin, cos, expon): \" )\n",
        "   if s not in ('+', '-', '*', '/', 'stepen', 'sin', 'cos', 'expon'):\n",
        "       continue\n",
        "   x = float(input('x = '))\n",
        "   y = float(input('y = '))\n",
        "   if s == '+':\n",
        "print(x + y)\n",
        "elif s == '-':\n",
        "print(x - y)\n",
        "elif s == '*':\n",
        "print(x * y)\n",
        "elif s == '/':\n",
        "       if y! = 0:\n",
        "print(x / y)\n",
        "       else:\n",
        "print(\" Делениенаноль! \" )\n",
        "elif s == 'expon':\n",
        "       print(np. exp(x+y))\n",
        "elif s == 'stepen':\n",
        "       print(x**y)\n",
        "elif s == 'sin':\n",
        "       print(np. sin(x+y))\n",
        "elif s == 'cos':\n",
        "       print(np. cos(x+y))\n",
        "if otv == 0:\n",
        "  break\n",
        "if otv not in (0, 1):\n",
        "      continue"
      ],
      "metadata": {
        "id": "m2OUG3oisf8p"
      },
      "execution_count": null,
      "outputs": []
    }
  ]
}