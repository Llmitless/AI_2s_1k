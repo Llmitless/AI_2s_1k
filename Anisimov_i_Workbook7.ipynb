{
  "nbformat": 4,
  "nbformat_minor": 0,
  "metadata": {
    "colab": {
      "provenance": [],
      "include_colab_link": true
    },
    "kernelspec": {
      "name": "python3",
      "display_name": "Python 3"
    },
    "language_info": {
      "name": "python"
    }
  },
  "cells": [
    {
      "cell_type": "markdown",
      "metadata": {
        "id": "view-in-github",
        "colab_type": "text"
      },
      "source": [
        "<a href=\"https://colab.research.google.com/github/Llmitless/AI_2s_1k/blob/main/Anisimov_i_Workbook7.ipynb\" target=\"_parent\"><img src=\"https://colab.research.google.com/assets/colab-badge.svg\" alt=\"Open In Colab\"/></a>"
      ]
    },
    {
      "cell_type": "markdown",
      "source": [
        "Теоретический материал – Нейронные сети\n",
        "Обучение персептрона\n",
        "Персептрон представляет собой элементарную часть нейронной сети. \n",
        "Одиночный персептрон является линейным бинарным классификатором. В \n",
        "этой лекции мы рассмотрим процедуру обучения персептрона для \n",
        "классификации данных. Поскольку персептрон представляет собой \n",
        "бинарный классификатор, то мы будем рассматривать лишь два класса.\n",
        "Пусть мы рассматриваем некоторое множество (конечное или \n",
        "бесконечное) n-мерных векторов, которые будем обозначать 𝑥 =\n",
        "(𝑥1, 𝑥2, . . . , 𝑥𝑛)\n",
        "Будем считать, что это множество разбивается на два класса, которые \n",
        "мы будем обозначать +1 и -1. Поэтому возникает задача построения \n",
        "функции, которая задана на нашем множестве векторов, и принимает \n",
        "значения в множестве {+1, −1}. В качестве такой функции может выступать \n",
        "персептрон. С алгебраической точки зрения персептрон состоит из вектора \n",
        "весов 𝑤 = (𝑤0, 𝑤1, 𝑤2, . . . , 𝑤𝑛).\n",
        "При этом персептрон работает по формуле\n",
        "𝑦 = 𝑠𝑖𝑔𝑛(𝑤0 + 𝑥1𝑤1 + 𝑥2𝑤2 + . . . + 𝑥𝑛𝑤𝑛),\n",
        "где функция 𝑠𝑖𝑔𝑛(𝑡) равна +1, если 𝑡 ≥ 0, и равна −1, если 𝑡 < 0.\n",
        "Приведем алгоритм обучения персептрона. Пусть у нас есть набор \n",
        "обучающих данных {(𝑥, 𝑑)}, где 𝑥 - это различные вектора, а 𝑑 из множества \n",
        "{+1, −1} указывает к какому классу относится наш вектор.\n",
        "1. Положим вектор весов 𝑤 равным нулю.\n",
        "2. Повторять 𝑁 раз следующие шаги:\n",
        "3. Для каждого тестового набора (𝑥, 𝑑):\n",
        "4. Вычислить 𝑦 = 𝑠𝑖𝑔𝑛[(𝑥, 𝑤)].\n",
        "5. Если 𝑦𝑑 < 0, то скорректировать веса 𝑤0 = 𝑤0 + 𝑎𝑑, 𝑤𝑖 =\n",
        "𝑤𝑖 + 𝑎𝑑𝑥𝑖\n",
        ", 𝑖 = 1,2, . . . , 𝑛. \n",
        "Описанный алгоритм довольно легко программировать."
      ],
      "metadata": {
        "id": "-HkWAHa8TT45"
      }
    },
    {
      "cell_type": "markdown",
      "source": [
        "1.1.1 Пример\n",
        "Задача:\n",
        "Рассмотрим программу обучения персептрона на языке Python. Сначала \n",
        "рассмотрим основной класс персептрона, который умеет учиться по \n",
        "тестовым данным."
      ],
      "metadata": {
        "id": "JnpDGjaIThrP"
      }
    },
    {
      "cell_type": "code",
      "source": [
        "class Perceptron:\n",
        "  def __init__(self, N):\n",
        "    self.w = list()\n",
        "    for i in range(N):\n",
        "      self.w.append(0)\n",
        "  def calc(self, x):\n",
        "    res = 0\n",
        "    for i in range(len(self.w)):\n",
        "      res += self.w[i]*x[i]\n",
        "    return res\n",
        "  def sign(self,x):\n",
        "    if self.calc(x) > 0:\n",
        "      return 1\n",
        "    else:\n",
        "      return -1\n",
        "  def learn(self, la, x, y):\n",
        "    if y * self.calc(x) > 0:\n",
        "      return\n",
        "    for i in range(len(self.w)):\n",
        "      self.w[i] = self.w[i] + la * y * x[i]\n",
        "  def learning(self,la,T):\n",
        "    for n in range(100):\n",
        "      for t in T:\n",
        "        self.learn(la, t[0], t[1])"
      ],
      "metadata": {
        "id": "oBepbEKl5QaT"
      },
      "execution_count": null,
      "outputs": []
    },
    {
      "cell_type": "markdown",
      "source": [
        "В строке 25 мы осуществляем корректировку весов. Посмотрим, как учится \n",
        "и работает наш персептрон."
      ],
      "metadata": {
        "id": "aW5G7wMWTrrv"
      }
    },
    {
      "cell_type": "code",
      "source": [
        "perc = Perceptron(2)\n",
        "la = 0.1\n",
        "T = [[2,1],1],[[3,2], 1],[[4,1], 1],[[1,2],-1],[[2,3], -1],[[5,7], -1]\n",
        "T = list(T)\n",
        "perc.learning(la, T)\n",
        "print(perc.w)\n",
        "print(perc.sign([1.5, 2]))\n",
        "print(perc.sign([3, 1.5]))\n",
        "print(perc.sign([5, 1]))\n",
        "print(perc.sign([5, 10]))"
      ],
      "metadata": {
        "colab": {
          "base_uri": "https://localhost:8080/"
        },
        "id": "urTpwCzuWDdk",
        "outputId": "75bcb1c3-f33f-4dce-89b0-aa14895d558a"
      },
      "execution_count": null,
      "outputs": [
        {
          "output_type": "stream",
          "name": "stdout",
          "text": [
            "[0.1, -0.1]\n",
            "-1\n",
            "1\n",
            "1\n",
            "-1\n"
          ]
        }
      ]
    },
    {
      "cell_type": "markdown",
      "source": [
        "Теоретический материал – Реализация нейронной сети на Python\n",
        "Нейронная сеть — это функциональная единица машинного или \n",
        "глубокого обучения. Она имитирует поведение человеческого мозга, \n",
        "поскольку основана на концепции биологических нейронных сетей.\n",
        "Наиболее распространенный тип нейронной сети, называемый \n",
        "многослойным персептроном (MLP), представляет собой функцию, которая \n",
        "отображает входные данные в выходные данные. MLP имеет один входной\n",
        "слой и один выходной слой. Между ними может быть один или несколько \n",
        "скрытых слоев. Входной слой имеет тот же набор нейронов, что и признаки. \n",
        "Скрытые слои также могут иметь более одного нейрона. Каждый нейрон \n",
        "представляет собой линейную функцию, к которой применяется функция \n",
        "активации для решения сложных задач. Выход каждого слоя подается в \n",
        "качестве входных данных для всех нейронов следующих слоев.\n",
        "Нейронные сети способны решать множество задач. В основном они \n",
        "состоят из таких компонентов:\n",
        "− входной слой (получение и передача данных);\n",
        "− скрытый слой (вычисление);\n",
        "− выходной слой. Чтобы реализовать нейросеть, необходимо \n",
        "понимать, как ведут себя нейроны. Нейрон одновременно \n",
        "принимает несколько входов, обрабатывает эти данные и выдает \n",
        "один выход. Нейронная сеть представляет собой блоки ввода и \n",
        "вывода, где каждое соединение имеет соответствующие веса (это \n",
        "сила связи нейронов; чем вес больше, тем один нейрон сильнее \n",
        "влияет на другой). Данные всех входов умножаются на веса:\n",
        "− 𝑥 → 𝑥 ∗ 𝑤1;\n",
        "− 𝑦 → 𝑦 ∗ 𝑤2.\n",
        "Входы после взвешивания суммируются с прибавлением значения \n",
        "порога «c»:\n",
        "𝑥𝑤1 + 𝑦𝑤2 + 𝑐\n",
        "Полученное значение пропускается через функцию активации \n",
        "(сигмоиду), которая преобразует входы в один выход:\n",
        "𝑧 = 𝑓(𝑥𝑤1 + 𝑦𝑤2 + 𝑐).\n",
        "Так выглядит сигмоида:\n",
        "Интервал результатов сигмоиды — от 0 до 1. Отрицательные числа \n",
        "стремятся к нулю, а положительные — к единице.\n",
        "Например. Пусть нейрон имеет следующие значения: 𝑤 = [0,1] 𝑐 = 4.\n",
        "Входной слой: 𝑥 = 2, 𝑦 = 3.\n",
        "((𝑥𝑤1) + (𝑦𝑤2)) + 𝑐 = 20 + 31 + 4 = 7.\n",
        "𝑧 = 𝑓(7) = 0.99."
      ],
      "metadata": {
        "id": "RsD-77zOUEPQ"
      }
    },
    {
      "cell_type": "markdown",
      "source": [
        "1.1.2 Пример\n",
        "Решение:\n",
        "Для написания кода нейрона будем использовать библиотеку Pytnon\n",
        "— NumPy:"
      ],
      "metadata": {
        "id": "LYaf83dxW57-"
      }
    },
    {
      "cell_type": "code",
      "source": [
        "import numpy as np\n",
        "\n",
        "def sigmoid(x):\n",
        "  return 1 / (1 + np.exp(-x))\n",
        "\n",
        "class Neuron:\n",
        "  def __init__(self, weights, bias):\n",
        "    self.weights = weights\n",
        "    self.bias = bias\n",
        "  def feedforward(self, inputs):\n",
        "    total = np.dot(self.weights, inputs) + self.bias\n",
        "    return sigmoid(total)\n",
        "\n",
        "weights = np.array([0,1])\n",
        "bias = 4\n",
        "n = Neuron(weights, bias)\n",
        "x = np.array([2,3])\n",
        "print(n.feedforward(x))"
      ],
      "metadata": {
        "colab": {
          "base_uri": "https://localhost:8080/"
        },
        "id": "fzMMp838W4T7",
        "outputId": "13fd24ae-84af-4ce5-901e-81b9dc8c1118"
      },
      "execution_count": null,
      "outputs": [
        {
          "output_type": "stream",
          "name": "stdout",
          "text": [
            "0.9990889488055994\n"
          ]
        }
      ]
    },
    {
      "cell_type": "markdown",
      "source": [
        "Нейросеть состоит из множества соединенных между собой нейронов.\n",
        "Пример несложной нейронной сети где:\n",
        "𝑥1, 𝑥2 — входной слой;\n",
        "ℎ1, ℎ2 — скрытый слой с двумя нейронами;\n",
        "𝑜1 — выходной слой.\n",
        "Например. Представим, что нейроны из графика выше имеют веса\n",
        "[0, 1]. Пороговое значение (𝑏) у обоих нейронов равно 0 и они имеют\n",
        "идентичную сигмоиду.\n",
        "При входных данных 𝑥 = [2, 3] получим:\n",
        "ℎ1 = ℎ2 = 𝑓(𝑤𝑥 + 𝑏) = 𝑓((02) + (1 ∗ 3) + 0) = 𝑓(3) = 0.95.\n",
        "𝑜1 = 𝑓(𝑤 ∗ [ℎ1, ℎ2] + 𝑏) = 𝑓((0ℎ1) + (1ℎ2) + 0) = 𝑓(0.95) = 0.72.\n",
        "Входные данные по нейронам передаются до тех пор, пока не \n",
        "получатся выходные значения."
      ],
      "metadata": {
        "id": "jXMxrpnOXtLm"
      }
    },
    {
      "cell_type": "code",
      "source": [
        "import numpy as np\n",
        "class ONN:\n",
        "  def __init__(self):\n",
        "    weights = np.array([0,1])\n",
        "    bias = 0\n",
        "    self.h1 = Neuron(weights, bias)\n",
        "    self.h2 = Neuron(weights, bias)\n",
        "    self.o1 = Neuron(weights, bias)\n",
        "  def feedforward(self, x):\n",
        "    out_h1 = self.h1.feedforward(x)\n",
        "    out_h2 = self.h2.feedforward(x)\n",
        "    out_o1 = self.o1.feedforward(np.array([out_h1, out_h2]))\n",
        "    return out_o1\n",
        "\n",
        "network = ONN()\n",
        "x = np.array([2,3])\n",
        "print(network.feedforward(x))"
      ],
      "metadata": {
        "colab": {
          "base_uri": "https://localhost:8080/"
        },
        "id": "pw8Ysz8gXtgn",
        "outputId": "65a40c88-0463-4d72-d468-fcc07af88e9e"
      },
      "execution_count": null,
      "outputs": [
        {
          "output_type": "stream",
          "name": "stdout",
          "text": [
            "0.7216325609518421\n"
          ]
        }
      ]
    },
    {
      "cell_type": "markdown",
      "source": [
        "Теоретический материал – Обучение нейронной сети\n",
        "Обучение нейросети — это подбор весов, которые соответствуют всем \n",
        "входам для решения поставленных задач.\n",
        "Класс нейронной сети:"
      ],
      "metadata": {
        "id": "BLnuRCELIMIA"
      }
    },
    {
      "cell_type": "code",
      "source": [
        "def sigmoid_derivative(x):\n",
        "  f = sigmoid(x)\n",
        "  return f * (1 - f)\n",
        "\n",
        "class NN:\n",
        "  def __init__(self, x, y):\n",
        "    self.input = x\n",
        "    self.weights1 = np.random.rand(self.input.shape[1], 4)\n",
        "    self.weights2 = np.random.rand(4, 1)\n",
        "    self.y = y\n",
        "    self.output = np.zeros(self.y.shape)\n",
        "\n",
        "  def feedforward(self, x):\n",
        "    self.layer1 = sigmoid(np.dot(self.input, self.weights1))\n",
        "    self.output = sigmoid(np.dot(self.layer1, self.weights2))\n",
        "\n",
        "  def backprob(self):\n",
        "    d_weights2 = np.dot(self.layer1.T, (2*(self.y - self.output) * sigmoid_derivative(self.output)))\n",
        "    d_weights1 = np.dot(self.input.T, (np.dot(2*(self.y - self.output)*sigmoid_derivative(self.output),\n",
        "                                              self.weights2.T)*sigmoid_derivative(self.layer1)))\n",
        "    self.weights1 += d_weights1\n",
        "    self.weights2 += d_weights2"
      ],
      "metadata": {
        "id": "QS9_oqrcYB2e"
      },
      "execution_count": null,
      "outputs": []
    },
    {
      "cell_type": "code",
      "source": [
        "import numpy as np\n",
        "class ONNz1:\n",
        "  def __init__(self):\n",
        "    weights = np.array([0.5,0.5,0.5])\n",
        "    bias = 0\n",
        "    self.h1 = Neuron(weights, bias)\n",
        "    self.h2 = Neuron(weights, bias)\n",
        "    self.h3 = Neuron(weights, bias)\n",
        "    self.o1 = Neuron(weights, bias)\n",
        "  def feedforward(self, x):\n",
        "    out_h1 = self.h1.feedforward(x)\n",
        "    out_h2 = self.h2.feedforward(x)\n",
        "    out_h3 = self.h3.feedforward(x)\n",
        "    out_o1 = self.o1.feedforward(np.array([out_h1, out_h2, out_h3]))\n",
        "    return out_o1\n",
        "class ONNz2:\n",
        "  def __init__(self):\n",
        "    weights = np.array([1,0])\n",
        "    bias = 1\n",
        "    self.h1 = Neuron(weights, bias)\n",
        "    self.h2 = Neuron(weights, bias)\n",
        "    self.o1 = Neuron(weights, bias)\n",
        "    self.o2 = Neuron(weights, bias)\n",
        "  def feedforward(self, x):\n",
        "    out_h1 = self.h1.feedforward(x)\n",
        "    out_h2 = self.h2.feedforward(x)\n",
        "    out_o1 = self.o1.feedforward(np.array(out_h1))\n",
        "    out_o2 = self.o1.feedforward(np.array(out_h2))\n",
        "    return out_o1, out_o2\n",
        "\n",
        "network = ONNz1()\n",
        "x = np.array([2,3,4])\n",
        "print(network.feedforward(x))\n",
        "\n",
        "network = ONNz2()\n",
        "x = np.array([2,3])\n",
        "out = network.feedforward(x)\n",
        "print(out[0], out[1])"
      ],
      "metadata": {
        "colab": {
          "base_uri": "https://localhost:8080/"
        },
        "id": "58HAiFlfZr1H",
        "outputId": "85dc69aa-c19e-4943-8307-b4c6938f4a8c"
      },
      "execution_count": null,
      "outputs": [
        {
          "output_type": "stream",
          "name": "stdout",
          "text": [
            "0.8151036049051821\n",
            "[0.87572705 0.73105858] [0.87572705 0.73105858]\n"
          ]
        }
      ]
    },
    {
      "cell_type": "markdown",
      "source": [
        "Задание:\n",
        "Реализуйте классы нейронных сетей с использованием других функций \n",
        "активации."
      ],
      "metadata": {
        "id": "us-8-UgiJIrH"
      }
    },
    {
      "cell_type": "code",
      "source": [
        "\n",
        "def tanh(x):\n",
        "  return (np.exp(x) - np.exp(-x)) / (np.exp(x) + np.exp(-x))\n",
        "\n",
        "def tanh_derivative(x):\n",
        "  return 1 - x**2\n",
        "\n",
        "def ReLU(x):\n",
        "  return max(0, x)\n",
        "\n",
        "def ReLU_derivative(x):\n",
        "  return (x > 0) * 1\n",
        "\n",
        "class NN1:\n",
        "  def __init__(self, x, y):\n",
        "    self.input = x\n",
        "    self.weights1 = np.random.rand(self.input.shape[1], 4)\n",
        "    self.weights2 = np.random.rand(4, 1)\n",
        "    self.y = y\n",
        "    self.output = np.zeros(self.y.shape)\n",
        "\n",
        "  def feedforward(self, x):\n",
        "    self.layer1 = tanh(np.dot(self.input, self.weights1))\n",
        "    self.output = tanh(np.dot(self.layer1, self.weights2))\n",
        "\n",
        "  def backprob(self):\n",
        "    d_weights2 = np.dot(self.layer1.T, (2*(self.y - self.output) * tanh_derivative(self.output)))\n",
        "    d_weights1 = np.dot(self.input.T, (np.dot(2*(self.y - self.output)*tanh_derivative(self.output),\n",
        "                                              self.weights2.T)*tanh_derivative(self.layer1)))\n",
        "    self.weights1 += d_weights1\n",
        "    self.weights2 += d_weights2\n",
        "\n",
        "class NN2:\n",
        "  def __init__(self, x, y):\n",
        "    self.input = x\n",
        "    self.weights1 = np.random.rand(self.input.shape[1], 4)\n",
        "    self.weights2 = np.random.rand(4, 1)\n",
        "    self.y = y\n",
        "    self.output = np.zeros(self.y.shape)\n",
        "\n",
        "  def feedforward(self, x):\n",
        "    self.layer1 = ReLU(np.dot(self.input, self.weights1))\n",
        "    self.output = ReLU(np.dot(self.layer1, self.weights2))\n",
        "\n",
        "  def backprob(self):\n",
        "    d_weights2 = np.dot(self.layer1.T, (2*(self.y - self.output) * ReLU_derivative(self.output)))\n",
        "    d_weights1 = np.dot(self.input.T, (np.dot(2*(self.y - self.output)*ReLU_derivative(self.output),\n",
        "                                              self.weights2.T)*ReLU_derivative(self.layer1)))\n",
        "    self.weights1 += d_weights1\n",
        "    self.weights2 += d_weights2\n"
      ],
      "metadata": {
        "id": "fjn-eIiIcISO"
      },
      "execution_count": null,
      "outputs": []
    },
    {
      "cell_type": "markdown",
      "source": [
        "1.2. Введение в нейронные сети с помощью Scikit-Learn в Python\n",
        "Теперь мы знаем, что такое нейронные сети и какие шаги необходимо \n",
        "выполнить, чтобы построить простую нейронную сеть с плотными связями. \n",
        "В этом разделе мы попытаемся построить простую нейронную сеть, которая \n",
        "предсказывает класс, к которому принадлежит данное растение ириса. Мы \n",
        "будем использовать библиотеку Python Scikit-Learn для создания нашей \n",
        "нейронной сети.\n",
        "Sklearn предоставляет 2 оценщика для задач классификации и \n",
        "регрессии соответственно:\n",
        "− MLPClassifier;\n",
        "− MLPRegressor \n",
        "Начнем с импорта необходимых библиотек."
      ],
      "metadata": {
        "id": "D8VwIcesJ6i_"
      }
    },
    {
      "cell_type": "code",
      "source": [
        "import numpy as np\n",
        "import pandas as pd\n",
        "import matplotlib.pyplot as plt\n",
        "\n",
        "import sklearn"
      ],
      "metadata": {
        "id": "jSY1J22pKCha"
      },
      "execution_count": null,
      "outputs": []
    },
    {
      "cell_type": "markdown",
      "source": [
        "MLPClassifier\n",
        "Загрузка данных\n",
        "Мы будем загружать два набора данных.\n",
        "Набор данных цифр: мы будем использовать набор данных цифр, \n",
        "который имеет изображения размером 8x8 для цифр 0-9. Ниже мы будем \n",
        "использовать цифровые данные для задач классификации.\n",
        "Набор данных о жилье в Бостоне: мы будем использовать набор \n",
        "данных о жилье в Бостоне, который содержит информацию о различных \n",
        "свойствах дома, таких как среднее количество комнат, уровень преступности \n",
        "на душу населения в городе и т. д. Мы будем использовать его для задач \n",
        "регрессии.\n",
        "Sklearn предоставляет оба этих набора данных. Мы можем загрузить \n",
        "их, вызвав методы load_digits() и load_boston().\n"
      ],
      "metadata": {
        "id": "3QR3-ULUKLTW"
      }
    },
    {
      "cell_type": "code",
      "source": [
        "from sklearn.datasets import load_digits\n",
        "\n",
        "digits = load_digits()\n",
        "X_digits, Y_digits = digits.data, digits.target\n",
        "print('Dataset Size: ', X_digits.shape, Y_digits.shape)"
      ],
      "metadata": {
        "id": "EZXFMgOzKTLH"
      },
      "execution_count": null,
      "outputs": []
    },
    {
      "cell_type": "markdown",
      "source": [
        "Классификация\n",
        "MLPClassifier — это клвсс, доступный как часть модуля neuro_network \n",
        "sklearn для выполнения задач классификации с использованием \n",
        "многослойного персептрона.\n",
        "Как обычно разделим набор данных на две части:\n",
        "− данные обучения, которые будут использоваться для модели \n",
        "обучения;\n",
        "− тестовые данные, по которым будет проверяться точность \n",
        "обученной модели.\n",
        "Функция train_test_split модуля model_selection sklearn поможет нам \n",
        "разделить данные на два набора: 80% для обучения и 20% для тестирования. \n",
        "Мы также используем seed(random_state=123) с train_test_split, чтобы мы \n",
        "всегда получали одно и то же разделение и могли сравнивать и \n",
        "воспроизволить результаты в будущем.\n"
      ],
      "metadata": {
        "id": "4EAFULG1Ld7g"
      }
    },
    {
      "cell_type": "code",
      "source": [
        "from sklearn.model_selection import train_test_split\n",
        "X_train, X_test, Y_train, Y_test = train_test_split(X_digits, Y_digits, train_size=0.80, test_size=0.20, stratify=Y_digits, random_state=123)\n",
        "print('Train/Test Sizes: ', X_train.shape, X_test.shape, Y_train.shape, Y_test.shape)"
      ],
      "metadata": {
        "id": "0QoUdeUrLcEE"
      },
      "execution_count": null,
      "outputs": []
    },
    {
      "cell_type": "markdown",
      "source": [
        "Для начала натренируем модель MLPClassifier с параметрами по умолчанию \n",
        "для тренировочных данных."
      ],
      "metadata": {
        "id": "RYa8gRp5LvyA"
      }
    },
    {
      "cell_type": "code",
      "source": [
        "from sklearn.neural_network import MLPClassifier\n",
        "\n",
        "mlp_classifier = MLPClassifier(random_state=123)\n",
        "mlp_classifier.fit(X_train, Y_train)"
      ],
      "metadata": {
        "id": "ruT3GLWWL5dO"
      },
      "execution_count": null,
      "outputs": []
    },
    {
      "cell_type": "code",
      "source": [
        "Y_preds = mlp_classifier.predict(X_test)\n",
        "print(Y_preds[:15])\n",
        "print(Y_test[:15])\n",
        "print('Test Accuracy: %.3f'%mlp_classifier.score(X_test, Y_test))\n",
        "print('Training Accuracy: %.3f'%mlp_classifier.score(X_train, Y_train))\n"
      ],
      "metadata": {
        "colab": {
          "base_uri": "https://localhost:8080/"
        },
        "id": "zNqDn-KKf5HR",
        "outputId": "db58337b-6618-47ca-c4dc-814a4a840b48"
      },
      "execution_count": null,
      "outputs": [
        {
          "output_type": "stream",
          "name": "stdout",
          "text": [
            "[5 9 9 6 1 6 6 9 8 7 4 2 1 4 3]\n",
            "[5 9 9 6 1 6 6 9 8 7 4 2 1 4 3]\n",
            "Test Accuracy: 0.983\n",
            "Training Accuracy: 1.000\n"
          ]
        }
      ]
    },
    {
      "cell_type": "markdown",
      "source": [
        "Cоздадим метод plot_confusion_matrix(), который принимает исходные и \n",
        "предсказанные метки данных по модели. Затем он строит матрицу путаницы, \n",
        "используя matplotlib."
      ],
      "metadata": {
        "id": "mFOr1tDLMJAe"
      }
    },
    {
      "cell_type": "code",
      "source": [
        "from sklearn.metrics import confusion_matrix\n",
        "\n",
        "def plot_confussion_matrix(Y_test, Y_preds):\n",
        "  conf_mat = confusion_matrix(Y_test, Y_preds)\n",
        "  fig = plt.figure(figsize=(6,6))\n",
        "  plt.matshow(conf_mat, cmap=plt.cm.Blues, fignum=1)\n",
        "  plt.yticks(range(10),range(10))\n",
        "  plt.xticks(range(10),range(10))\n",
        "  plt.colorbar()\n",
        "  for i in range(10):\n",
        "    for j in range(10):\n",
        "      plt.text(i-0.2, j+0.1, str(conf_mat[j,i]), color='tab:red')"
      ],
      "metadata": {
        "id": "69B8rSDCg1pb"
      },
      "execution_count": null,
      "outputs": []
    },
    {
      "cell_type": "code",
      "source": [
        "plot_confussion_matrix(Y_test, mlp_classifier.predict(X_test))"
      ],
      "metadata": {
        "colab": {
          "base_uri": "https://localhost:8080/",
          "height": 372
        },
        "id": "SXI2n0nKhJrs",
        "outputId": "828a37ce-3b8b-4d17-ed09-6cd19751abff"
      },
      "execution_count": null,
      "outputs": [
        {
          "output_type": "display_data",
          "data": {
            "text/plain": [
              "<Figure size 432x432 with 2 Axes>"
            ],
            "image/png": "[encoded data removed]"
          },
          "metadata": {
            "needs_background": "light"
          }
        }
      ]
    },
    {
      "cell_type": "markdown",
      "source": [
        "Ниже приведен список важных атрибутов, доступных с MLPClassifier, \n",
        "которые могут предоставить значимую информацию после обучения \n",
        "модели.\n",
        "− loss_ — возвращает убыток после завершения процесса обучения.\n",
        "− coefs_ — возвращает массив длины n_layers-1, где каждый элемент \n",
        "представляет веса, связанные с уровнем i.\n",
        "− intercepts_ — возвращает массив длины n_layers-1, где каждый \n",
        "элемент представляет собой перехват, связанный с персептронами \n",
        "слоя i.\n",
        "− n_iter_ — количество итераций, для которых выполнялась оценка.\n",
        "− out_activation_ — возвращает имя функции активации выходного \n",
        "слоя."
      ],
      "metadata": {
        "id": "kiVjB2NVKt7X"
      }
    },
    {
      "cell_type": "code",
      "source": [
        "print('Loss:', mlp_classifier.loss_)\n",
        "print('Number of Coefs:', len(mlp_classifier.coefs_))\n",
        "print('Number of Intercepts:', len(mlp_classifier.intercepts_))\n",
        "print('Number of Iterations for Which Estimator Ran:', mlp_classifier.n_iter_)\n",
        "print('Number of Output Layer Activation Function:', mlp_classifier.out_activation_)"
      ],
      "metadata": {
        "colab": {
          "base_uri": "https://localhost:8080/"
        },
        "id": "TAMeQGnBhUfj",
        "outputId": "571c09da-7540-4581-ddc2-eba1668515eb"
      },
      "execution_count": null,
      "outputs": [
        {
          "output_type": "stream",
          "name": "stdout",
          "text": [
            "Loss: 0.0034728684994180608\n",
            "Number of Coefs: 2\n",
            "Number of Intercepts: 2\n",
            "Number of Iterations for Which Estimator Ran: 125\n",
            "Number of Output Layer Activation Function: softmax\n"
          ]
        }
      ]
    },
    {
      "cell_type": "markdown",
      "source": [
        "MLPRegressor\n",
        "MLPRegressor — это класс, доступный как часть библиотеки \n",
        "neuro_network sklearn для выполнения задач регрессии с использованием \n",
        "многослойного персептрона. Также разделим набор данных на две части:\n",
        "− данные обучения (80%), которые будут использоваться для \n",
        "модели обучения;\n",
        "− тестовые данные (20%), по которым будет проверяться точность \n",
        "обученной модели.\n"
      ],
      "metadata": {
        "id": "q5kuhyKBLGY9"
      }
    },
    {
      "cell_type": "code",
      "source": [
        "X_train, X_test, Y_train, Y_test = train_test_split(X_boston, Y_boston, train_size=0.80, test_size=0.20, random_state=123)\n",
        "print('Train/Test Sizes: ', X_train.shape, X_test.shape, Y_train.shape, Y_test.shape)\n",
        "\n",
        "from sklearn.neural_network import MLPRegressor\n",
        "\n",
        "mlp_reg = MLPRegressor(random_state=123)\n",
        "mlp_reg.fit(X_train,Y_train)"
      ],
      "metadata": {
        "colab": {
          "base_uri": "https://localhost:8080/",
          "height": 92
        },
        "id": "D-O6LHgQinJb",
        "outputId": "66c9e707-7daa-4993-96fa-f0060512fbbd"
      },
      "execution_count": null,
      "outputs": [
        {
          "output_type": "stream",
          "name": "stdout",
          "text": [
            "Train/Test Sizes:  (404, 13) (102, 13) (404,) (102,)\n"
          ]
        },
        {
          "output_type": "execute_result",
          "data": {
            "text/plain": [
              "MLPRegressor(random_state=123)"
            ],
            "text/html": [
              "<style>#sk-container-id-2 {color: black;background-color: white;}#sk-container-id-2 pre{padding: 0;}#sk-container-id-2 div.sk-toggleable {background-color: white;}#sk-container-id-2 label.sk-toggleable__label {cursor: pointer;display: block;width: 100%;margin-bottom: 0;padding: 0.3em;box-sizing: border-box;text-align: center;}#sk-container-id-2 label.sk-toggleable__label-arrow:before {content: \"▸\";float: left;margin-right: 0.25em;color: #696969;}#sk-container-id-2 label.sk-toggleable__label-arrow:hover:before {color: black;}#sk-container-id-2 div.sk-estimator:hover label.sk-toggleable__label-arrow:before {color: black;}#sk-container-id-2 div.sk-toggleable__content {max-height: 0;max-width: 0;overflow: hidden;text-align: left;background-color: #f0f8ff;}#sk-container-id-2 div.sk-toggleable__content pre {margin: 0.2em;color: black;border-radius: 0.25em;background-color: #f0f8ff;}#sk-container-id-2 input.sk-toggleable__control:checked~div.sk-toggleable__content {max-height: 200px;max-width: 100%;overflow: auto;}#sk-container-id-2 input.sk-toggleable__control:checked~label.sk-toggleable__label-arrow:before {content: \"▾\";}#sk-container-id-2 div.sk-estimator input.sk-toggleable__control:checked~label.sk-toggleable__label {background-color: #d4ebff;}#sk-container-id-2 div.sk-label input.sk-toggleable__control:checked~label.sk-toggleable__label {background-color: #d4ebff;}#sk-container-id-2 input.sk-hidden--visually {border: 0;clip: rect(1px 1px 1px 1px);clip: rect(1px, 1px, 1px, 1px);height: 1px;margin: -1px;overflow: hidden;padding: 0;position: absolute;width: 1px;}#sk-container-id-2 div.sk-estimator {font-family: monospace;background-color: #f0f8ff;border: 1px dotted black;border-radius: 0.25em;box-sizing: border-box;margin-bottom: 0.5em;}#sk-container-id-2 div.sk-estimator:hover {background-color: #d4ebff;}#sk-container-id-2 div.sk-parallel-item::after {content: \"\";width: 100%;border-bottom: 1px solid gray;flex-grow: 1;}#sk-container-id-2 div.sk-label:hover label.sk-toggleable__label {background-color: #d4ebff;}#sk-container-id-2 div.sk-serial::before {content: \"\";position: absolute;border-left: 1px solid gray;box-sizing: border-box;top: 0;bottom: 0;left: 50%;z-index: 0;}#sk-container-id-2 div.sk-serial {display: flex;flex-direction: column;align-items: center;background-color: white;padding-right: 0.2em;padding-left: 0.2em;position: relative;}#sk-container-id-2 div.sk-item {position: relative;z-index: 1;}#sk-container-id-2 div.sk-parallel {display: flex;align-items: stretch;justify-content: center;background-color: white;position: relative;}#sk-container-id-2 div.sk-item::before, #sk-container-id-2 div.sk-parallel-item::before {content: \"\";position: absolute;border-left: 1px solid gray;box-sizing: border-box;top: 0;bottom: 0;left: 50%;z-index: -1;}#sk-container-id-2 div.sk-parallel-item {display: flex;flex-direction: column;z-index: 1;position: relative;background-color: white;}#sk-container-id-2 div.sk-parallel-item:first-child::after {align-self: flex-end;width: 50%;}#sk-container-id-2 div.sk-parallel-item:last-child::after {align-self: flex-start;width: 50%;}#sk-container-id-2 div.sk-parallel-item:only-child::after {width: 0;}#sk-container-id-2 div.sk-dashed-wrapped {border: 1px dashed gray;margin: 0 0.4em 0.5em 0.4em;box-sizing: border-box;padding-bottom: 0.4em;background-color: white;}#sk-container-id-2 div.sk-label label {font-family: monospace;font-weight: bold;display: inline-block;line-height: 1.2em;}#sk-container-id-2 div.sk-label-container {text-align: center;}#sk-container-id-2 div.sk-container {/* jupyter's `normalize.less` sets `[hidden] { display: none; }` but bootstrap.min.css set `[hidden] { display: none !important; }` so we also need the `!important` here to be able to override the default hidden behavior on the sphinx rendered scikit-learn.org. See: https://github.com/scikit-learn/scikit-learn/issues/21755 */display: inline-block !important;position: relative;}#sk-container-id-2 div.sk-text-repr-fallback {display: none;}</style><div id=\"sk-container-id-2\" class=\"sk-top-container\"><div class=\"sk-text-repr-fallback\"><pre>MLPRegressor(random_state=123)</pre><b>In a Jupyter environment, please rerun this cell to show the HTML representation or trust the notebook. <br />On GitHub, the HTML representation is unable to render, please try loading this page with nbviewer.org.</b></div><div class=\"sk-container\" hidden><div class=\"sk-item\"><div class=\"sk-estimator sk-toggleable\"><input class=\"sk-toggleable__control sk-hidden--visually\" id=\"sk-estimator-id-2\" type=\"checkbox\" checked><label for=\"sk-estimator-id-2\" class=\"sk-toggleable__label sk-toggleable__label-arrow\">MLPRegressor</label><div class=\"sk-toggleable__content\"><pre>MLPRegressor(random_state=123)</pre></div></div></div></div></div>"
            ]
          },
          "metadata": {},
          "execution_count": 13
        }
      ]
    },
    {
      "cell_type": "code",
      "source": [
        "Y_preds = mlp_reg.predict(X_test)\n",
        "print(Y_preds[:10])\n",
        "print(Y_test[:10])\n",
        "print('Test Accuracy: %.3f'%mlp_reg.score(X_test, Y_test))\n",
        "print('Training Accuracy: %.3f'%mlp_reg.score(X_train, Y_train))"
      ],
      "metadata": {
        "colab": {
          "base_uri": "https://localhost:8080/"
        },
        "id": "1oTtRetBi19c",
        "outputId": "7fb5dc1d-0272-48f8-9f46-f749266f2b2d"
      },
      "execution_count": null,
      "outputs": [
        {
          "output_type": "stream",
          "name": "stdout",
          "text": [
            "[ 7.32543601 24.33417853 32.46700507 15.19086054 25.6749167  25.07797685\n",
            " 27.20985668  2.62269853 15.25691994 28.02637784]\n",
            "[15.  26.6 45.4 20.8 34.9 21.9 28.7  7.2 20.  32.2]\n",
            "Test Accuracy: 0.462\n",
            "Training Accuracy: 0.510\n"
          ]
        }
      ]
    },
    {
      "cell_type": "code",
      "source": [
        "print('Loss:', mlp_reg.loss_)\n",
        "print('Number of Iterations for Which Estimator Ran:', mlp_reg.n_iter_)\n",
        "print('Number of Output Layer Activation Function:', mlp_reg.out_activation_)\n",
        "print('Number of Coefs:', len(mlp_reg.coefs_))\n",
        "[weights.shape for weights in mlp_reg.coefs_]"
      ],
      "metadata": {
        "colab": {
          "base_uri": "https://localhost:8080/"
        },
        "id": "-UVwPkAFjaA7",
        "outputId": "4ec74e89-f33b-42e8-fa35-2334461ff624"
      },
      "execution_count": null,
      "outputs": [
        {
          "output_type": "stream",
          "name": "stdout",
          "text": [
            "Loss: 28.538174061119584\n",
            "Number of Iterations for Which Estimator Ran: 130\n",
            "Number of Output Layer Activation Function: identity\n",
            "Number of Coefs: 2\n"
          ]
        },
        {
          "output_type": "execute_result",
          "data": {
            "text/plain": [
              "[(13, 100), (100, 1)]"
            ]
          },
          "metadata": {},
          "execution_count": 15
        }
      ]
    },
    {
      "cell_type": "markdown",
      "source": [
        "Используйте классы MLPClassified и MLPRegressor для классификации и\n",
        "регрессии произвольных данных из интернета. Проведите анализ\n",
        "атрибуты, полученных моделей.\n",
        "Для классификации можете взять набор данных Ирисов:\n",
        "https://gist.githubusercontent.com/netj/8836201/raw/6f9306ad21398ea43cba4f7d537619d0e07d5ae3/iris.csv\n",
        "а для регрессии датасет зависимости заработной платы от опыта работы:\n",
        "https://raw.githubusercontent.com/AnnaShestova/salary-years-simple-linearregression/master/Salary_Data.csv"
      ],
      "metadata": {
        "id": "iCRnPWnnj3I1"
      }
    },
    {
      "cell_type": "code",
      "source": [
        "data_url = \"https://gist.githubusercontent.com/netj/8836201/raw/6f9306ad21398ea43cba4f7d537619d0e07d5ae3/iris.csv\"\n",
        "dataset = pd.read_csv(data_url)\n",
        "X_train, X_test, Y_train, Y_test = train_test_split(dataset.iloc[:, :-1], dataset.iloc[:, -1], train_size=0.80, test_size=0.20, stratify=dataset.iloc[:, -1], random_state=123)\n",
        "mlp_classifier = MLPClassifier(random_state=123)\n",
        "mlp_classifier.fit(X_train, Y_train)\n",
        "Y_preds = mlp_classifier.predict(X_test)\n",
        "print(Y_preds[:5])\n",
        "print(Y_test[:5])\n",
        "print('Test Accuracy: %.3f'%mlp_classifier.score(X_test, Y_test))\n",
        "print('Training Accuracy: %.3f'%mlp_classifier.score(X_train, Y_train))\n",
        "\n",
        "print('Loss:', mlp_classifier.loss_)\n",
        "print('Number of Coefs:', len(mlp_classifier.coefs_))\n",
        "print('Number of Intercepts:', len(mlp_classifier.intercepts_))\n",
        "print('Number of Iterations for Which Estimator Ran:', mlp_classifier.n_iter_)\n",
        "print('Number of Output Layer Activation Function:', mlp_classifier.out_activation_)"
      ],
      "metadata": {
        "colab": {
          "base_uri": "https://localhost:8080/"
        },
        "id": "DtggDILEkAzc",
        "outputId": "1c2d1416-6fd8-42a1-9d69-c72394bd6b40"
      },
      "execution_count": null,
      "outputs": [
        {
          "output_type": "stream",
          "name": "stdout",
          "text": [
            "['Versicolor' 'Setosa' 'Virginica' 'Virginica' 'Setosa']\n",
            "80     Versicolor\n",
            "45         Setosa\n",
            "144     Virginica\n",
            "110     Virginica\n",
            "38         Setosa\n",
            "Name: variety, dtype: object\n",
            "Test Accuracy: 0.933\n",
            "Training Accuracy: 0.983\n",
            "Loss: 0.29887893401974336\n",
            "Number of Coefs: 2\n",
            "Number of Intercepts: 2\n",
            "Number of Iterations for Which Estimator Ran: 200\n",
            "Number of Output Layer Activation Function: softmax\n"
          ]
        },
        {
          "output_type": "stream",
          "name": "stderr",
          "text": [
            "/usr/local/lib/python3.9/dist-packages/sklearn/neural_network/_multilayer_perceptron.py:686: ConvergenceWarning: Stochastic Optimizer: Maximum iterations (200) reached and the optimization hasn't converged yet.\n",
            "  warnings.warn(\n"
          ]
        }
      ]
    },
    {
      "cell_type": "code",
      "source": [
        "data_url = \"https://raw.githubusercontent.com/AnnaShestova/salary-years-simple-linear-regression/master/Salary_Data.csv\"\n",
        "dataset = pd.read_csv(data_url)\n",
        "dataset.head()"
      ],
      "metadata": {
        "id": "hyj4PCMgkBGU",
        "colab": {
          "base_uri": "https://localhost:8080/",
          "height": 215
        },
        "outputId": "200e5efc-ec62-4f4e-cc3c-f532fe6a9676"
      },
      "execution_count": null,
      "outputs": [
        {
          "output_type": "execute_result",
          "data": {
            "text/plain": [
              "   YearsExperience   Salary\n",
              "0              1.1  39343.0\n",
              "1              1.3  46205.0\n",
              "2              1.5  37731.0\n",
              "3              2.0  43525.0\n",
              "4              2.2  39891.0"
            ],
            "text/html": [
              "\n",
              "  <div id=\"df-b31e8b84-09ec-44f2-b49c-e650c164d433\">\n",
              "    <div class=\"colab-df-container\">\n",
              "      <div>\n",
              "<style scoped>\n",
              "    .dataframe tbody tr th:only-of-type {\n",
              "        vertical-align: middle;\n",
              "    }\n",
              "\n",
              "    .dataframe tbody tr th {\n",
              "        vertical-align: top;\n",
              "    }\n",
              "\n",
              "    .dataframe thead th {\n",
              "        text-align: right;\n",
              "    }\n",
              "</style>\n",
              "<table border=\"1\" class=\"dataframe\">\n",
              "  <thead>\n",
              "    <tr style=\"text-align: right;\">\n",
              "      <th></th>\n",
              "      <th>YearsExperience</th>\n",
              "      <th>Salary</th>\n",
              "    </tr>\n",
              "  </thead>\n",
              "  <tbody>\n",
              "    <tr>\n",
              "      <th>0</th>\n",
              "      <td>1.1</td>\n",
              "      <td>39343.0</td>\n",
              "    </tr>\n",
              "    <tr>\n",
              "      <th>1</th>\n",
              "      <td>1.3</td>\n",
              "      <td>46205.0</td>\n",
              "    </tr>\n",
              "    <tr>\n",
              "      <th>2</th>\n",
              "      <td>1.5</td>\n",
              "      <td>37731.0</td>\n",
              "    </tr>\n",
              "    <tr>\n",
              "      <th>3</th>\n",
              "      <td>2.0</td>\n",
              "      <td>43525.0</td>\n",
              "    </tr>\n",
              "    <tr>\n",
              "      <th>4</th>\n",
              "      <td>2.2</td>\n",
              "      <td>39891.0</td>\n",
              "    </tr>\n",
              "  </tbody>\n",
              "</table>\n",
              "</div>\n",
              "      <button class=\"colab-df-convert\" onclick=\"convertToInteractive('df-b31e8b84-09ec-44f2-b49c-e650c164d433')\"\n",
              "              title=\"Convert this dataframe to an interactive table.\"\n",
              "              style=\"display:none;\">\n",
              "        \n",
              "  <svg xmlns=\"http://www.w3.org/2000/svg\" height=\"24px\"viewBox=\"0 0 24 24\"\n",
              "       width=\"24px\">\n",
              "    <path d=\"M0 0h24v24H0V0z\" fill=\"none\"/>\n",
              "    <path d=\"M18.56 5.44l.94 2.06.94-2.06 2.06-.94-2.06-.94-.94-2.06-.94 2.06-2.06.94zm-11 1L8.5 8.5l.94-2.06 2.06-.94-2.06-.94L8.5 2.5l-.94 2.06-2.06.94zm10 10l.94 2.06.94-2.06 2.06-.94-2.06-.94-.94-2.06-.94 2.06-2.06.94z\"/><path d=\"M17.41 7.96l-1.37-1.37c-.4-.4-.92-.59-1.43-.59-.52 0-1.04.2-1.43.59L10.3 9.45l-7.72 7.72c-.78.78-.78 2.05 0 2.83L4 21.41c.39.39.9.59 1.41.59.51 0 1.02-.2 1.41-.59l7.78-7.78 2.81-2.81c.8-.78.8-2.07 0-2.86zM5.41 20L4 18.59l7.72-7.72 1.47 1.35L5.41 20z\"/>\n",
              "  </svg>\n",
              "      </button>\n",
              "      \n",
              "  <style>\n",
              "    .colab-df-container {\n",
              "      display:flex;\n",
              "      flex-wrap:wrap;\n",
              "      gap: 12px;\n",
              "    }\n",
              "\n",
              "    .colab-df-convert {\n",
              "      background-color: #E8F0FE;\n",
              "      border: none;\n",
              "      border-radius: 50%;\n",
              "      cursor: pointer;\n",
              "      display: none;\n",
              "      fill: #1967D2;\n",
              "      height: 32px;\n",
              "      padding: 0 0 0 0;\n",
              "      width: 32px;\n",
              "    }\n",
              "\n",
              "    .colab-df-convert:hover {\n",
              "      background-color: #E2EBFA;\n",
              "      box-shadow: 0px 1px 2px rgba(60, 64, 67, 0.3), 0px 1px 3px 1px rgba(60, 64, 67, 0.15);\n",
              "      fill: #174EA6;\n",
              "    }\n",
              "\n",
              "    [theme=dark] .colab-df-convert {\n",
              "      background-color: #3B4455;\n",
              "      fill: #D2E3FC;\n",
              "    }\n",
              "\n",
              "    [theme=dark] .colab-df-convert:hover {\n",
              "      background-color: #434B5C;\n",
              "      box-shadow: 0px 1px 3px 1px rgba(0, 0, 0, 0.15);\n",
              "      filter: drop-shadow(0px 1px 2px rgba(0, 0, 0, 0.3));\n",
              "      fill: #FFFFFF;\n",
              "    }\n",
              "  </style>\n",
              "\n",
              "      <script>\n",
              "        const buttonEl =\n",
              "          document.querySelector('#df-b31e8b84-09ec-44f2-b49c-e650c164d433 button.colab-df-convert');\n",
              "        buttonEl.style.display =\n",
              "          google.colab.kernel.accessAllowed ? 'block' : 'none';\n",
              "\n",
              "        async function convertToInteractive(key) {\n",
              "          const element = document.querySelector('#df-b31e8b84-09ec-44f2-b49c-e650c164d433');\n",
              "          const dataTable =\n",
              "            await google.colab.kernel.invokeFunction('convertToInteractive',\n",
              "                                                     [key], {});\n",
              "          if (!dataTable) return;\n",
              "\n",
              "          const docLinkHtml = 'Like what you see? Visit the ' +\n",
              "            '<a target=\"_blank\" href=https://colab.research.google.com/notebooks/data_table.ipynb>data table notebook</a>'\n",
              "            + ' to learn more about interactive tables.';\n",
              "          element.innerHTML = '';\n",
              "          dataTable['output_type'] = 'display_data';\n",
              "          await google.colab.output.renderOutput(dataTable, element);\n",
              "          const docLink = document.createElement('div');\n",
              "          docLink.innerHTML = docLinkHtml;\n",
              "          element.appendChild(docLink);\n",
              "        }\n",
              "      </script>\n",
              "    </div>\n",
              "  </div>\n",
              "  "
            ]
          },
          "metadata": {},
          "execution_count": 17
        }
      ]
    },
    {
      "cell_type": "code",
      "source": [
        "X_train, X_test, Y_train, Y_test = train_test_split(dataset.iloc[:, :-1], dataset.iloc[:, 0], train_size=0.80, test_size=0.20, random_state=123)\n",
        "\n",
        "print('Train/Test Sizes: ', X_train.shape, X_test.shape, Y_train.shape, Y_test.shape)"
      ],
      "metadata": {
        "colab": {
          "base_uri": "https://localhost:8080/"
        },
        "id": "WJd6OPCM03HQ",
        "outputId": "05f41856-369e-4e42-c693-7cdb623acd9d"
      },
      "execution_count": null,
      "outputs": [
        {
          "output_type": "stream",
          "name": "stdout",
          "text": [
            "Train/Test Sizes:  (24, 1) (6, 1) (24,) (6,)\n"
          ]
        }
      ]
    },
    {
      "cell_type": "code",
      "source": [
        "mlp_reg = MLPRegressor(random_state=123)\n",
        "mlp_reg.fit(X_train,Y_train)\n",
        "\n",
        "Y_preds = mlp_reg.predict(X_test)\n",
        "print(Y_preds[:10])\n",
        "print(Y_test[:10])\n",
        "print('Test Accuracy: %.3f'%mlp_reg.score(X_test, Y_test))\n",
        "print('Training Accuracy: %.3f'%mlp_reg.score(X_train, Y_train))\n",
        "\n",
        "print('Loss:', mlp_reg.loss_)\n",
        "print('Number of Iterations for Which Estimator Ran:', mlp_reg.n_iter_)\n",
        "print('Number of Output Layer Activation Function:', mlp_reg.out_activation_)\n",
        "print('Number of Coefs:', len(mlp_reg.coefs_))\n",
        "[weights.shape for weights in mlp_reg.coefs_]"
      ],
      "metadata": {
        "colab": {
          "base_uri": "https://localhost:8080/"
        },
        "id": "EpYAM2mf05tY",
        "outputId": "c9acfacb-7be7-4342-d102-bef51ae39368"
      },
      "execution_count": null,
      "outputs": [
        {
          "output_type": "stream",
          "name": "stdout",
          "text": [
            "[ 3.31051161 10.13826574  3.02191336  9.25039488  3.31051161  9.33918197]\n",
            "7      3.2\n",
            "29    10.5\n",
            "5      2.9\n",
            "26     9.5\n",
            "8      3.2\n",
            "27     9.6\n",
            "Name: YearsExperience, dtype: float64\n",
            "Test Accuracy: 0.996\n",
            "Training Accuracy: 0.997\n",
            "Loss: 0.008698047282581502\n",
            "Number of Iterations for Which Estimator Ran: 200\n",
            "Number of Output Layer Activation Function: identity\n",
            "Number of Coefs: 2\n"
          ]
        },
        {
          "output_type": "stream",
          "name": "stderr",
          "text": [
            "/usr/local/lib/python3.9/dist-packages/sklearn/neural_network/_multilayer_perceptron.py:686: ConvergenceWarning: Stochastic Optimizer: Maximum iterations (200) reached and the optimization hasn't converged yet.\n",
            "  warnings.warn(\n"
          ]
        },
        {
          "output_type": "execute_result",
          "data": {
            "text/plain": [
              "[(1, 100), (100, 1)]"
            ]
          },
          "metadata": {},
          "execution_count": 19
        }
      ]
    }
  ]
}