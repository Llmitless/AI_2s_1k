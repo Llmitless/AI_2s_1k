{
  "nbformat": 4,
  "nbformat_minor": 0,
  "metadata": {
    "colab": {
      "provenance": [],
      "authorship_tag": "ABX9TyNcKmmH3Kx8QiHkqp6lOvVs",
      "include_colab_link": true
    },
    "kernelspec": {
      "name": "python3",
      "display_name": "Python 3"
    },
    "language_info": {
      "name": "python"
    }
  },
  "cells": [
    {
      "cell_type": "markdown",
      "metadata": {
        "id": "view-in-github",
        "colab_type": "text"
      },
      "source": [
        "<a href=\"https://colab.research.google.com/github/Llmitless/AI_2s_1k/blob/main/Anisimov_Workbook2.ipynb\" target=\"_parent\"><img src=\"https://colab.research.google.com/assets/colab-badge.svg\" alt=\"Open In Colab\"/></a>"
      ]
    },
    {
      "cell_type": "markdown",
      "source": [
        "1.1. Теоретический материал – Библиотека NumPy\n",
        "NumPy (NumericalPython) - это библиотека Python с открытым\n",
        "исходным кодом, которая используется практически во всех областях науки\n",
        "и техники. Это универсальный стандарт для работы с числовыми данными в\n",
        "Python.\n",
        "Если у вас уже есть Python, вы можете установить NumPy с помощью\n",
        "командной строки:\n",
        " pip install numpy\n",
        "Чтобы начать использовать NumPy необходимо импортировать\n",
        "соответствующую библиотеку:\n",
        " import numpy as np\n",
        "Основным объектом NumPy является однородный многомерный\n",
        "массив (в numpy называется numpy.ndarray). Это многомерный массив\n",
        "элементов (обычно чисел), одного типа.\n",
        "Наиболее важные атрибуты объектов ndarray:\n",
        "ndarray.ndim - число измерений (чаще их называют \"оси\") массива.\n",
        "ndarray.shape - размеры массива, его форма. Это кортеж натуральных\n",
        "чисел, показывающий длину массива по каждой оси. Для матрицы из n строк\n",
        "и m столбов, shape будет (n,m). Число элементов кортежа shape равно ndim.\n",
        "ndarray.size - количество элементов массива. Очевидно, равно\n",
        "произведению всех элементов атрибута shape.\n",
        "ndarray.dtype - объект, описывающий тип элементов массива. Можно\n",
        "определить dtype, используя стандартные типы данных Python. NumPy здесь\n",
        "предоставляет целый букет возможностей, как встроенных, например: bool_,\n",
        "character, int8, int16, int32, int64, float8, float16, float32, float64, complex64,\n",
        "object_, так и возможность определить собственные типы данных, в том\n",
        "числе и составные.\n",
        "ndarray.itemsize - размер каждого элемента массива в байтах.\n",
        "ndarray.data - буфер, содержащий фактические элементы массива.\n",
        "Обычно не нужно использовать этот атрибут, так как обращаться к\n",
        "элементам массива проще всего с помощью индексов.\n",
        "Подробнее о массивах в NumPy можно найти в официальной\n",
        "документации https://numpy.org/doc/stable/user/absolute_beginners.html"
      ],
      "metadata": {
        "id": "QL-PPQ-N4Wuh"
      }
    },
    {
      "cell_type": "markdown",
      "source": [
        "1.2.1 Пример\n",
        "Задача:\n",
        "Создать массив 5x2. Создать массив 5x2. Вывести все значения массива,\n",
        "значение элемента с индексом (3,1) и второй столбец. Индексация\n",
        "начинается с нуля."
      ],
      "metadata": {
        "id": "i5DtrvI24m67"
      }
    },
    {
      "cell_type": "code",
      "execution_count": null,
      "metadata": {
        "id": "kz54Y0Z-4FGX"
      },
      "outputs": [],
      "source": [
        "import numpy as np\n",
        "x = np.array([[1,2],[3,4],[5,6],[7,8],[9,10]])\n",
        "print(x)\n",
        "print(x[3][1])\n",
        "print(x[1])"
      ]
    },
    {
      "cell_type": "markdown",
      "source": [
        "1.2.2 Пример\n",
        "Пример. Выполнить следующее:\n",
        "\n",
        "Создать вектор (одномерный массив) размера 10, заполненный\n",
        "нулями. 2. Создать вектор размера 10, заполненный единицами. 3. Создать вектор размера 10, заполненный заданным числом. 4. Создать вектор со значениями от 10 до 19."
      ],
      "metadata": {
        "id": "yyUnTwfY7LP2"
      }
    },
    {
      "cell_type": "code",
      "source": [
        "import numpy as np\n",
        "a = np.zeros(10)\n",
        "b = np.ones(10)\n",
        "c = np.full(10,5)\n",
        "d = np.arange(10,20)\n",
        "print(a,\"\\n\",b,\"\\n\",c,\"\\n\",d,\"\\n\")"
      ],
      "metadata": {
        "id": "V8SF159f7Oz2"
      },
      "execution_count": null,
      "outputs": []
    },
    {
      "cell_type": "markdown",
      "source": [
        "1.2.3 Пример\n",
        "Создать массив 10x10 со случайными значениями, найти минимум, максимум и среднее значение."
      ],
      "metadata": {
        "id": "5-Y8abpl7Td5"
      }
    },
    {
      "cell_type": "code",
      "source": [
        "X = np.random.random((10,10))\n",
        "Xmin, Xmax, Xmean, = X.min(), X.max(), X.mean()\n",
        "print(Xmin, Xmax, Xmean)"
      ],
      "metadata": {
        "id": "acBlFd7i7WYN"
      },
      "execution_count": null,
      "outputs": []
    },
    {
      "cell_type": "markdown",
      "source": [
        "1.2.4 Пример\n",
        "Задать матрицу размерности 5 на 5 и поменять 2 строки в матрице местами."
      ],
      "metadata": {
        "id": "jFBDnyGh7dO_"
      }
    },
    {
      "cell_type": "code",
      "source": [
        "K = np.arange(25).reshape(5,5)\n",
        "K[[0,1]] = K[[1,0]]\n",
        "print(K)"
      ],
      "metadata": {
        "id": "R3w0i1UP7eH_"
      },
      "execution_count": null,
      "outputs": []
    },
    {
      "cell_type": "markdown",
      "source": [
        "1.2.5 Пример\n",
        "Выяснить результат следующих выражений: 0 * np.nan np.nan == np.nan np.inf > np.nan np.nan - np.nan 0.3 == 3 * 0.1"
      ],
      "metadata": {
        "id": "0WvAY_477gt_"
      }
    },
    {
      "cell_type": "code",
      "source": [
        "import numpy as np\n",
        "print(0*np.nan)\n",
        "print(np.nan==np.nan)\n",
        "print(np.inf>np.nan)\n",
        "print(np.nan-np.nan)\n",
        "print(0.3 == 3*0.1)"
      ],
      "metadata": {
        "id": "OZSmpSWx7jOL"
      },
      "execution_count": null,
      "outputs": []
    },
    {
      "cell_type": "markdown",
      "source": [
        "1.2.6 Пример\n",
        "Отсортировать массив."
      ],
      "metadata": {
        "id": "29iJDszX7lu2"
      }
    },
    {
      "cell_type": "code",
      "source": [
        "import numpy as np\n",
        "arr = np.array([2,8,5,4,1,3,7,6])\n",
        "print(np.sort(arr))"
      ],
      "metadata": {
        "id": "c17nLkdG7oOC"
      },
      "execution_count": null,
      "outputs": []
    },
    {
      "cell_type": "markdown",
      "source": [
        "1.3.1 Задание\n",
        "Создать 8x8 матрицу и заполнить её в шахматном порядке нулями и единицами."
      ],
      "metadata": {
        "id": "MgvI5AFD7r_N"
      }
    },
    {
      "cell_type": "code",
      "source": [
        "import numpy as np\n",
        "size = 8\n",
        "arr = np.full((size,size),0)\n",
        "for line in arr[0:size:2]:\n",
        "    line[np.mod(np.arange(0,size),2)!=0]=1\n",
        "for line in arr[1:size:2]:\n",
        "    line[np.mod(np.arange(size)+1,2)!=0]=1\n",
        "print(arr)"
      ],
      "metadata": {
        "id": "5Nsoh51L7shJ"
      },
      "execution_count": null,
      "outputs": []
    },
    {
      "cell_type": "markdown",
      "source": [
        "1.3.2 Задание\n",
        "Создать 5x5 матрицу со значениями в строках от 0 до 4. Для создания необходимо использовать функцию arrange."
      ],
      "metadata": {
        "id": "tAQkMLuu7u32"
      }
    },
    {
      "cell_type": "code",
      "source": [
        "import numpy as np\n",
        "\n",
        "sample = np.arange(5)\n",
        "arr = np.full((5,5),sample)\n",
        "print(arr)"
      ],
      "metadata": {
        "id": "8epcC6_O7xKY"
      },
      "execution_count": null,
      "outputs": []
    },
    {
      "cell_type": "markdown",
      "source": [
        "1.3.3 Задание\n",
        "Создать массив 3x3x3 со случайными значениями"
      ],
      "metadata": {
        "id": "Ik0mWll67z1q"
      }
    },
    {
      "cell_type": "code",
      "source": [
        "import numpy as np\n",
        "\n",
        "arr = np.random.random((3,3,3))\n",
        "print(arr)"
      ],
      "metadata": {
        "id": "Mb5LiXiK7129"
      },
      "execution_count": null,
      "outputs": []
    },
    {
      "cell_type": "markdown",
      "source": [
        "1.3.4 Задание\n",
        "Создать матрицу с 0 внутри, и 1 на границах."
      ],
      "metadata": {
        "id": "gjSsjcyz7-u6"
      }
    },
    {
      "cell_type": "code",
      "source": [
        "import numpy as np\n",
        "\n",
        "arr = np.full((10,10),1)\n",
        "for line in arr[1:9:1]:\n",
        "    line[1:9:1]=0\n",
        "print(arr)"
      ],
      "metadata": {
        "id": "Wz84zROS8BsP"
      },
      "execution_count": null,
      "outputs": []
    },
    {
      "cell_type": "markdown",
      "source": [
        "1.3.5 Задание\n",
        "Создайте массив и отсортируйте его по убыванию."
      ],
      "metadata": {
        "id": "-5FjrbN18Ed-"
      }
    },
    {
      "cell_type": "code",
      "source": [
        "import numpy as np\n",
        "arr = np.array([1,9,3,6,8,7,5,2,0,3,6,4,1])\n",
        "print(-np.sort(-arr))"
      ],
      "metadata": {
        "id": "4gQ49LZo8Gk7"
      },
      "execution_count": null,
      "outputs": []
    },
    {
      "cell_type": "markdown",
      "source": [
        "1.3.6 Задание\n",
        "Создайте матрицу, выведите ее форму, размер и размерность."
      ],
      "metadata": {
        "id": "DiaYhrAF8Ir7"
      }
    },
    {
      "cell_type": "code",
      "source": [
        "import numpy as np\n",
        "\n",
        "matr = np.array([[0,3,9,5,6],[3,6,8,9,0],[3,3,4,7,5]])\n",
        "print(matr)\n",
        "print(\"Size: \",matr.size)\n",
        "print(\"Shape: \", matr.shape)\n",
        "print(\"Dimension: \", matr.ndim)"
      ],
      "metadata": {
        "id": "TwKQHDWu8LDn"
      },
      "execution_count": null,
      "outputs": []
    },
    {
      "cell_type": "markdown",
      "source": [
        "2. Библиотека Pandas\n",
        "Первым шагом в любом начинании в области машинного обучения является введение исходных данных в систему. Исходные данные могут вводиться вручную, содержаться в файле или храниться в интернете в какомлибо формате. Кроме того, часто требуется получить данные из нескольких источников.\n",
        "\n",
        "Библиотека pandas – это удобный и быстрый инструмент для работы с данными, обладающий большим функционалом. Если очень кратко, то pandas – это библиотека, которая предоставляет очень удобные с точки зрения использования инструменты для хранения данных и работе с ними.\n",
        "\n",
        "Библиотека pandas присутствует в стандартной поставке Anaconda.\n",
        "\n",
        "Если же ее там нет, то его можно установить отдельно. Для этого введите командной строке: pip install pandas Для импорта библиотеки используйте команду:\n",
        "\n",
        "import pandas as pd\n",
        "Библиотека pandas предоставляет две ключевые структуры данных: Series и DataFrame.\n",
        "\n",
        "Series – это одномерная структура данных, ее можно представить, как\n",
        "таблицу с одной строкой. С Series можно работать как с обычным массивом (обращаться по номеру индекса), и как с ассоциированным массивом, когда можно использовать ключ для доступа к элементам данных.\n",
        "\n",
        "DataFrame – это двумерная структура. Идейно она очень похожа на\n",
        "обычную таблицу, что выражается в способе ее создания и работе с ее элементами"
      ],
      "metadata": {
        "id": "sG2xTDGl8R4a"
      }
    },
    {
      "cell_type": "markdown",
      "source": [
        "2.2.1 Пример\n",
        "Создать Series из списка Python, словаря Python, и массива Numpy (установить буквенные метки для последнего)."
      ],
      "metadata": {
        "id": "Mlzao_4x8SoQ"
      }
    },
    {
      "cell_type": "code",
      "source": [
        "import pandas as pd\n",
        "import numpy as np\n",
        "lst=[1,2,3,4,5]\n",
        "d = {'a':1,'b':2,'c':3}\n",
        "ndarr = np.arange(1,6)\n",
        "\n",
        "s1 = pd.Series(lst)\n",
        "s2 = pd.Series(d)\n",
        "s3 = pd.Series(ndarr,['a','b','c','d','e'])\n",
        "\n",
        "print(s1)\n",
        "print(s2)\n",
        "print(s3)"
      ],
      "metadata": {
        "id": "v2D3PZlp8V3K"
      },
      "execution_count": null,
      "outputs": []
    },
    {
      "cell_type": "markdown",
      "source": [
        "2.2.2 Пример\n",
        "Дано два Series. Напечатать их первые элементы и все элементы после третьего (во втором фрейме)."
      ],
      "metadata": {
        "id": "zMTP-HAM8Wh_"
      }
    },
    {
      "cell_type": "code",
      "source": [
        "import pandas as pd\n",
        "s1 = pd.Series([1,2,3,4,5],['a','b','c','d','e'])\n",
        "s2 = pd.Series([5,4,3,2,1])\n",
        "print(s1['a'])\n",
        "print(s2[0])\n",
        "print(s3[3:])"
      ],
      "metadata": {
        "id": "7SES-sHg8YeD"
      },
      "execution_count": null,
      "outputs": []
    },
    {
      "cell_type": "markdown",
      "source": [
        "2.2.3 Пример\n",
        "Создайте новый фрейм данных."
      ],
      "metadata": {
        "id": "sdRbZQ438adS"
      }
    },
    {
      "cell_type": "code",
      "source": [
        "import pandas as pd\n",
        "\n",
        "dataframe = pd.DataFrame()\n",
        "dataframe['Имя']=['Джеки Джексон','Стивен Стивенсон']\n",
        "dataframe['Возраст']=[38,25]\n",
        "dataframe['Водитель']=[True,False]\n",
        "dataframe"
      ],
      "metadata": {
        "id": "joFklpwo8cw1"
      },
      "execution_count": null,
      "outputs": []
    },
    {
      "cell_type": "markdown",
      "source": [
        "2.2.4 Пример\n",
        "Загрузите фрейм данных по ссылке: https://raw.githubusercontent.com/chrisalbon/simulated_datasets/master/titanic.csv"
      ],
      "metadata": {
        "id": "6izMuGlT8egR"
      }
    },
    {
      "cell_type": "code",
      "source": [
        "import pandas as pd\n",
        "\n",
        "url = 'https://raw.githubusercontent.com/chrisalbon/simulated_datasets/master/titanic.csv'\n",
        "dataframe = pd.read_csv(url)\n",
        "dataframe.head(5)"
      ],
      "metadata": {
        "id": "P0ZBm5Yx8iXp"
      },
      "execution_count": null,
      "outputs": []
    },
    {
      "cell_type": "markdown",
      "source": [
        "2.2.5 Пример\n",
        "Пронализировать характеристики фрейма данных.\n",
        "\n",
        "Одна из самых простых вещей, которые мы можем сделать после загрузки данных, – это взглянуть на первые несколько строк с помощью метода head. На последние строки можно посмотреть с помощью функции tail. Мы также можем взглянуть на количество строк и столбцов: dataframe.shape. Кроме того, используя метод describe, мы можем получить описательную статистику для любых числовых столбцов."
      ],
      "metadata": {
        "id": "plvWEnsq8jLC"
      }
    },
    {
      "cell_type": "code",
      "source": [
        "import pandas as pd\n",
        "\n",
        "url = 'https://raw.githubusercontent.com/chrisalbon/simulated_datasets/master/titanic.csv'\n",
        "\n",
        "dataframe = pd.read_csv(url)\n",
        "dataframe.head(2)\n",
        "dataframe.tail(3)\n",
        "dataframe.shape\n",
        "dataframe.describe()"
      ],
      "metadata": {
        "id": "k4AlvQcj8nqv"
      },
      "execution_count": null,
      "outputs": []
    },
    {
      "cell_type": "markdown",
      "source": [
        "2.2.6 Пример\n",
        "Выберите индивидуальные данные или срезы фрейма данных."
      ],
      "metadata": {
        "id": "E1I0U5Wj9I81"
      }
    },
    {
      "cell_type": "code",
      "source": [
        "import pandas as pd\n",
        "\n",
        "url = 'https://raw.githubusercontent.com/chrisalbon/simulated_datasets/master/titanic.csv'\n",
        "\n",
        "dataframe = pd.read_csv(url)\n",
        "dataframe.iloc[1:4]"
      ],
      "metadata": {
        "id": "EJwLXEdY9Jn6"
      },
      "execution_count": null,
      "outputs": []
    },
    {
      "cell_type": "markdown",
      "source": [
        "2.2.7 Пример\n",
        "Требуется отобрать строки фрейма данных на основе некоторого условия. Необходимо сформировать новый фрейм данных из пассажиров первого класса."
      ],
      "metadata": {
        "id": "nkvf4N579NSU"
      }
    },
    {
      "cell_type": "code",
      "source": [
        "import pandas as pd\n",
        "\n",
        "url = 'https://raw.githubusercontent.com/chrisalbon/simulated_datasets/master/titanic.csv'\n",
        "\n",
        "dataframe = pd.read_csv(url)\n",
        "dataframe[dataframe['PClass']=='1st'].head(2)"
      ],
      "metadata": {
        "id": "2wu9VXf09N6i"
      },
      "execution_count": null,
      "outputs": []
    },
    {
      "cell_type": "markdown",
      "source": [
        "2.3.1 Задание\n",
        "Найдите евклидово расстояние между двумя Series (точками) a и b, не используя встроенную формулу."
      ],
      "metadata": {
        "id": "rAw8ZQVD9TGK"
      }
    },
    {
      "cell_type": "code",
      "source": [
        "import pandas as pd\n",
        "import numpy as np\n",
        "\n",
        "A = pd.Series([2,3,6,8])\n",
        "B = pd.Series([0,62,6,9])\n",
        "K = np.power(B-A,2)\n",
        "distance = np.sqrt(np.sum(K))\n",
        "print(distance)"
      ],
      "metadata": {
        "id": "V_V9M9899Tnb"
      },
      "execution_count": null,
      "outputs": []
    },
    {
      "cell_type": "markdown",
      "source": [
        "2.3.2\n",
        "Найдите в Интернете ссылку на любой csv файл и сформируйте из него фрейм данных (например, коллекцию фреймов данных можно найти здесь: https://github.com/akmand/datasets)."
      ],
      "metadata": {
        "id": "K9fe4VbI9WZq"
      }
    },
    {
      "cell_type": "code",
      "source": [
        "import pandas as np\n",
        "\n",
        "url = 'https://raw.githubusercontent.com/akmand/datasets/main/airlines.csv'\n",
        "\n",
        "dataframe = pd.read_csv(url)\n",
        "dataframe.head(10)"
      ],
      "metadata": {
        "id": "0NZQmAge9YYC"
      },
      "execution_count": null,
      "outputs": []
    },
    {
      "cell_type": "markdown",
      "source": [
        "2.3.3 Задание\n",
        "Проделайте с получившемся из предыдущего задания фреймом данных те же действия, что и в примерах 2.2.5-2.2.7."
      ],
      "metadata": {
        "id": "BFecsZ_A9aR2"
      }
    },
    {
      "cell_type": "code",
      "source": [
        "import pandas as np\n",
        "\n",
        "url = 'https://raw.githubusercontent.com/akmand/datasets/main/airlines.csv'\n",
        "\n",
        "dataframe = pd.read_csv(url)\n",
        "dataframe.head(2)\n",
        "dataframe.tail(3)\n",
        "dataframe.shape\n",
        "dataframe.describe()\n",
        "dataframe_cut = dataframe\n",
        "dataframe_cut.iloc[100:150]\n",
        "dataframe[dataframe['Delay'] > 0].head(100)"
      ],
      "metadata": {
        "id": "mfPwph0W9cYn"
      },
      "execution_count": null,
      "outputs": []
    },
    {
      "cell_type": "markdown",
      "source": [
        "3 Работа с числовыми данными\n",
        "Количественные данные что-то измеряют – будь то размер класса, ежемесячные продажи или оценки учащихся. Естественным способом представления этих величин является численным (например, 150 студентов, $529 392 продаж). Нормализация данных — это общепринятая задача предобработки в машинном обучении. Многие алгоритмы предполагают, что все признаки находятся в единой шкале, как правило, от 0 до 1 или от -1 до 1. Существует множество способов нормализации значений признаков, чтобы масштабировать их к единому диапазону и использовать в различных моделях машинного обучения. В зависимости от используемой функции, их можно разделить на 2 большие группы: линейные и нелинейные. При нелинейной нормализации в расчетных соотношениях используются функции логистической сигмоиды или гиперболического тангенса. В линейной нормализации изменение переменных осуществляется пропорционально, по линейному закону. На практике наиболее распространены следующие методы нормализации признаков:\n",
        "\n",
        "Минимакс – линейное преобразование данных в диапазоне [0..1], где\n",
        "минимальное и максимальное масштабируемые значения соответствуют 0 и 1 соответственно; Minimax\n",
        "\n",
        "Z-масштабирование данных на основе среднего значения и\n",
        "стандартного отклонения: производят деление разницы между переменной и средним значением на стандартное отклонение. Z-Scaling\n",
        "\n",
        "При масштабировании данных мы будем использовать одну из популярных библиотек машинного обучения Scikit-learn. Библиотека содержит пакет sklearn.preprocessing, который предоставляет широкие возможности для нормализации данных. Следует отметить, что в целом алгоритмы обучения выигрывают от стандартизации набора данных."
      ],
      "metadata": {
        "id": "FTOha1Zf94LJ"
      }
    },
    {
      "cell_type": "markdown",
      "source": [
        "3.2.1 Пример\n",
        "Прошкалируйте числовой признак в диапазон между двумя значениями"
      ],
      "metadata": {
        "id": "RgGXrcQ498f0"
      }
    },
    {
      "cell_type": "code",
      "source": [
        "import numpy as np\n",
        "from sklearn import preprocessing\n",
        "\n",
        "feature = np.array([[-500.5],[-100.1],[0],[100.1],[900.9]])\n",
        "\n",
        "minimax_scale = preprocessing.MinMaxScaler(feature_range=(0,1))\n",
        "scaled_feature = minimax_scale.fit_transform(feature)\n",
        "\n",
        "scaled_feature"
      ],
      "metadata": {
        "id": "qp1dHiAx958T"
      },
      "execution_count": null,
      "outputs": []
    },
    {
      "cell_type": "markdown",
      "source": [
        "3.2.2 Задание\n",
        "Преобразуйте признак, чтобы он имел среднее значение 0 и стандартное отклонение 1."
      ],
      "metadata": {
        "id": "SBPezM-x9_WL"
      }
    },
    {
      "cell_type": "code",
      "source": [
        "x = np.array([[-1000.1],[-200.2],[500.5],[600.6],[9000.9]])\n",
        "scaler = preprocessing.StandardScaler()\n",
        "\n",
        "standard = scaler.fit_transform(x)\n",
        "\n",
        "standard"
      ],
      "metadata": {
        "id": "ZT225UaZ-DNA"
      },
      "execution_count": null,
      "outputs": []
    },
    {
      "cell_type": "code",
      "source": [
        "print('Среднее: ', round(standard.mean()))\n",
        "print('Стандартное отклонение: ',standard.std())"
      ],
      "metadata": {
        "id": "gtnUCWQW-Gzn"
      },
      "execution_count": null,
      "outputs": []
    },
    {
      "cell_type": "markdown",
      "source": [
        "3.2.3 Пример\n",
        "Дан фрейм данных\n",
        "\n",
        "dfTest = pd.DataFrame({'A':[14.00,90.20,90.95,96.27,91.21],\n",
        " 'B':[103.02,107.26,110.35,114.23,114.68],\n",
        " 'C':['big','small','big','small','small']})\n",
        "Необходимо масштабировать его числовые столбцы."
      ],
      "metadata": {
        "id": "MZHiw1v5-LPQ"
      }
    },
    {
      "cell_type": "code",
      "source": [
        "import pandas as pd\n",
        "from sklearn.preprocessing import MinMaxScaler\n",
        "scaler = MinMaxScaler()\n",
        "dfTest = pd.DataFrame({ 'A':[14.00,90.20,90.95,96.27,91.21],\n",
        "                        'B':[103.02,107.26,110.35,114.23,114.68],\n",
        "                        'C':['big','small','big','small','small']})\n",
        "dfTest[['A','B']]=scaler.fit_transform(dfTest[['A','B']])\n",
        "dfTest"
      ],
      "metadata": {
        "id": "9eDUzFbm-OEH"
      },
      "execution_count": null,
      "outputs": []
    },
    {
      "cell_type": "markdown",
      "source": [
        "3.3.1 Задание\n",
        "Загрузить фрейм данных по ссылке: https://raw.githubusercontent.com/akmand/datasets/master/iris.csv. Необходимо выполнить нормализацию первого числового признака (sepal_length_cm) с использованием минимаксного преобразования, а второго (sepal_width_cm) с задействованием z-масштабирования."
      ],
      "metadata": {
        "id": "goNDjCCl-ZWh"
      }
    },
    {
      "cell_type": "code",
      "source": [
        "import pandas as pd\n",
        "from sklearn import preprocessing\n",
        "\n",
        "url = 'https://raw.githubusercontent.com/akmand/datasets/master/iris.csv'\n",
        "\n",
        "dataframe = pd.read_csv(url)\n",
        "feature = np.array(dataframe['sepal_length_cm']).reshape(-1,1)\n",
        "scaler = preprocessing.MinMaxScaler()\n",
        "feature_res = scaler.fit_transform(feature)\n",
        "feature"
      ],
      "metadata": {
        "id": "sXYkXwi6-Z-W"
      },
      "execution_count": null,
      "outputs": []
    },
    {
      "cell_type": "code",
      "source": [
        "scaler_st = preprocessing.StandardScaler()\n",
        "feature = np.array(dataframe['sepal_width_cm']).reshape(-1,1)\n",
        "feature_std = scaler_st.fit_transform(feature)\n",
        "feature_std"
      ],
      "metadata": {
        "id": "O4_UnKwF-fkb"
      },
      "execution_count": null,
      "outputs": []
    }
  ]
}