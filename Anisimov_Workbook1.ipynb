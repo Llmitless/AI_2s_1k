{
  "nbformat": 4,
  "nbformat_minor": 0,
  "metadata": {
    "colab": {
      "provenance": [],
      "authorship_tag": "ABX9TyOByFiXooYZtgS1xDL55Jqi",
      "include_colab_link": true
    },
    "kernelspec": {
      "name": "python3",
      "display_name": "Python 3"
    },
    "language_info": {
      "name": "python"
    }
  },
  "cells": [
    {
      "cell_type": "markdown",
      "metadata": {
        "id": "view-in-github",
        "colab_type": "text"
      },
      "source": [
        "<a href=\"https://colab.research.google.com/github/Llmitless/AI_2s_1k/blob/main/Anisimov_Workbook1.ipynb\" target=\"_parent\"><img src=\"https://colab.research.google.com/assets/colab-badge.svg\" alt=\"Open In Colab\"/></a>"
      ]
    },
    {
      "cell_type": "markdown",
      "source": [
        "1.1. Теоретический материал – Типы данных\n",
        "Типы данных\n",
        "Все типы данных в Python относятся к одной из 2-х категорий:\n",
        "изменяемые (mutable) и неизменяемые (immutable).\n",
        "Неизменяемые объекты:\n",
        " числовые данные (int, float),\n",
        " bool,\n",
        " None,\n",
        " символьные строки (class 'str'),\n",
        " кортежи (tuple).\n",
        "Изменяемые объекты:\n",
        " списки (list),\n",
        " множества (set),\n",
        " словари (dict)."
      ],
      "metadata": {
        "id": "tTx2CUkDsxLu"
      }
    },
    {
      "cell_type": "markdown",
      "source": [
        "1.2. Выведите на печать и определите тип переменной."
      ],
      "metadata": {
        "id": "E_u4qwP3DPY8"
      }
    },
    {
      "cell_type": "code",
      "source": [
        "x=3+5.2*7\n",
        "y=None\n",
        "z='a',5,12.345,(2,'b')\n",
        "df=[['Антонова Антонина', 34, 'ж'],['Борисов Борис',26,'м']]\n",
        "A={1,'title',2,'content'}\n",
        "print(x,'|',type(x),'\\n',y,'|',type(y),'\\n', z,'|',type(z),'\\n',df,'|',type(df), '\\n',A,'|',type(a))"
      ],
      "metadata": {
        "id": "W_-mkGGAi_L1",
        "colab": {
          "base_uri": "https://localhost:8080/"
        },
        "outputId": "f982a822-3b73-4c7a-8cb9-136253461135"
      },
      "execution_count": 42,
      "outputs": [
        {
          "output_type": "stream",
          "name": "stdout",
          "text": [
            "39.4 | <class 'float'> \n",
            " None | <class 'NoneType'> \n",
            " ('a', 5, 12.345, (2, 'b')) | <class 'tuple'> \n",
            " [['Антонова Антонина', 34, 'ж'], ['Борисов Борис', 26, 'м']] | <class 'list'> \n",
            " {1, 2, 'content', 'title'} | <class 'list'>\n"
          ]
        }
      ]
    },
    {
      "cell_type": "markdown",
      "source": [
        "1.3. Задание\n",
        "\n",
        "Задача:\n",
        "Выведите на печать и определите тип переменнойю"
      ],
      "metadata": {
        "id": "cO5EkN5fDTL6"
      }
    },
    {
      "cell_type": "code",
      "source": [
        "x=5 >=2\n",
        "A={1,3,7,8}\n",
        "B={2,4,5,10,'apple'}\n",
        "C=A&B\n",
        "df='Антонова Антонина',34,''\n",
        "z='type'\n",
        "D=[1,'title',2,'content']\n",
        "print (x, '|', type(x), '\\n', A, '|', type(A), '\\n',   B, '|', type(B), '\\n', df, '|', type(df), '\\n',   C, '|', type(C), D, '|', type(D))  "
      ],
      "metadata": {
        "id": "X3AOgX-XlXFE",
        "colab": {
          "base_uri": "https://localhost:8080/"
        },
        "outputId": "5bde6c0c-6baa-4660-9e81-5694783ebf40"
      },
      "execution_count": 17,
      "outputs": [
        {
          "output_type": "stream",
          "name": "stdout",
          "text": [
            "True | <class 'bool'> \n",
            " {8, 1, 3, 7} | <class 'set'> \n",
            " {2, 4, 5, 10, 'apple'} | <class 'set'> \n",
            " ('Антонова Антонина', 34, '') | <class 'tuple'> \n",
            " set() | <class 'set'> [1, 'title', 2, 'content'] | <class 'list'>\n"
          ]
        }
      ]
    },
    {
      "cell_type": "markdown",
      "source": [
        "2.1. Теоретический материал – Условный оператор\n",
        "If – Условный оператор\n",
        "В коде часто приходится проверять выполнимость или\n",
        "невыполнимость каких-то условий. Синтаксис:\n",
        "if <условие1 (булевское выражение)> :\n",
        " <код, который выполнится, если условие верно>\n",
        "elif <условие2 (булевское выражение)>:\n",
        " <код, который выполнится, если условие1 было неверно, а\n",
        "условие2 верно>\n",
        "else:\n",
        " <код, который выполнится, если условие1 и условие2 были\n",
        "неверны>\n",
        "Обратите внимание, что код, который должен выполняться внутри\n",
        "каждого условия, записывается с отступом в 4 пробела от уровня if, elif и\n",
        "else: в питоне области видимости переменных обозначаются отступами."
      ],
      "metadata": {
        "id": "Echsg0mjliQK"
      }
    },
    {
      "cell_type": "markdown",
      "source": [
        "2.2. Пример\n",
        "1. Задача:\n",
        "Вывести на экран является ли переменная х положительной,\n",
        "отрицательной или равна нулю."
      ],
      "metadata": {
        "id": "ssTMdqbKDV1p"
      }
    },
    {
      "cell_type": "code",
      "source": [
        "x=125\n",
        "if x<0:\n",
        "  print(\"x отрицательный\")\n",
        "elif x==0:\n",
        "  print(\"x равен\")\n",
        "else:\n",
        "  print(\"x положительный\")"
      ],
      "metadata": {
        "id": "CwXnAOvTllty",
        "colab": {
          "base_uri": "https://localhost:8080/"
        },
        "outputId": "6760d5d5-a085-43b3-bf59-8baca4967d3e"
      },
      "execution_count": 16,
      "outputs": [
        {
          "output_type": "stream",
          "name": "stdout",
          "text": [
            "x положительный\n"
          ]
        }
      ]
    },
    {
      "cell_type": "markdown",
      "source": [
        "2.3. Задание\n",
        "\n",
        "Задача:\n",
        "Напишите код. Задается х, напечатать какому из интервалов\n",
        "принадлежит: (-infinity, -5), [-5, 5] или от (5, +infinity)"
      ],
      "metadata": {
        "id": "L0LgRCIEmR5n"
      }
    },
    {
      "cell_type": "code",
      "source": [
        "x=125\n",
        "if x<-5:\n",
        "    print(\"x принадлежит: (-infinity, -5)\")\n",
        "elif x>5:\n",
        "    print(\" x принадлежит: (5, +infinity)\") \n",
        "else:\n",
        "    print(\"x принадлежит [-5, 5]\")"
      ],
      "metadata": {
        "id": "lSiULfjMmWOl",
        "colab": {
          "base_uri": "https://localhost:8080/"
        },
        "outputId": "403b3467-311e-4310-d741-976b4b09d25a"
      },
      "execution_count": 19,
      "outputs": [
        {
          "output_type": "stream",
          "name": "stdout",
          "text": [
            " x принадлежит: (5, +infinity)\n"
          ]
        }
      ]
    },
    {
      "cell_type": "markdown",
      "source": [
        "3.1. Теоретический материал – Циклы, массивы, срезы\n",
        "Циклы - for и while\n",
        "Цикл while проверяет истинность условия, и если условие истинно, то\n",
        "выполняет инструкции цикла.\n",
        "Синтаксис:\n",
        "while условие:\n",
        " инструкции\n",
        "Инструкции, которые относятся к циклу while, располагаются на\n",
        "последующих строках и должны иметь отступ от начала ключевого слова\n",
        "while.\n",
        "Цикл for проходит по набору значений, помещает каждое значение в\n",
        "переменную с которой в цикле можно производить различные действия.\n",
        "Синтаксис:\n",
        "for переменная in набор_значений:\n",
        " инструкции\n",
        "После ключевого слова for идет название переменной, в которую\n",
        "будут помещаться значения. После оператора in указывается набор значений\n",
        "и двоеточие. Инструкции, которые относятся к циклу, располагаются на\n",
        "последующих строках и должны иметь отступ.\n",
        "При создании цикла удобно пользоваться функцией range(a, b),\n",
        "которая создает последовательность чисел от a до b-1.\n"
      ],
      "metadata": {
        "id": "p9YFAfDGmWll"
      }
    },
    {
      "cell_type": "markdown",
      "source": [
        "3.2.1. Пример\n",
        "\n",
        "Задача:\n",
        "Вывести все числа от 1 до 10 с шагом 3"
      ],
      "metadata": {
        "id": "2IbCQGY-DZjC"
      }
    },
    {
      "cell_type": "code",
      "source": [
        "x=1\n",
        "while x<=10:\n",
        "  print(x)\n",
        "  x+=3"
      ],
      "metadata": {
        "id": "3WQXLH-omaBp",
        "colab": {
          "base_uri": "https://localhost:8080/"
        },
        "outputId": "8fecec78-a206-4015-ebdf-280cd050fc6c"
      },
      "execution_count": 5,
      "outputs": [
        {
          "output_type": "stream",
          "name": "stdout",
          "text": [
            "1\n",
            "4\n",
            "7\n",
            "10\n"
          ]
        }
      ]
    },
    {
      "cell_type": "markdown",
      "source": [
        "3.2.2. Пример\n",
        "\n",
        "Задача:\n",
        "Задан список. Напечатать все элементы списка"
      ],
      "metadata": {
        "id": "djYubdfIml2I"
      }
    },
    {
      "cell_type": "code",
      "source": [
        "models = ['KNN','decision tree', 'linear model']\n",
        "for model in models:\n",
        "  print(model)"
      ],
      "metadata": {
        "id": "nMF5nkCvmq5y",
        "colab": {
          "base_uri": "https://localhost:8080/"
        },
        "outputId": "706e275c-cf11-4111-9d16-bc20e5e80767"
      },
      "execution_count": 6,
      "outputs": [
        {
          "output_type": "stream",
          "name": "stdout",
          "text": [
            "KNN\n",
            "decision tree\n",
            "linear model\n"
          ]
        }
      ]
    },
    {
      "cell_type": "markdown",
      "source": [
        "3.2.3. Пример\n",
        "\n",
        "Задача:\n",
        "Создать список от 1 до 99 с шагом 7."
      ],
      "metadata": {
        "id": "O228JEkWDePx"
      }
    },
    {
      "cell_type": "code",
      "source": [
        "list_int = range(1, 100, 7)\n",
        "print(list(list_int))"
      ],
      "metadata": {
        "id": "CpgogjWjnAbt",
        "colab": {
          "base_uri": "https://localhost:8080/"
        },
        "outputId": "ff284b09-5d0d-41e2-a321-2c91f3867e9b"
      },
      "execution_count": 7,
      "outputs": [
        {
          "output_type": "stream",
          "name": "stdout",
          "text": [
            "[1, 8, 15, 22, 29, 36, 43, 50, 57, 64, 71, 78, 85, 92, 99]\n"
          ]
        }
      ]
    },
    {
      "cell_type": "markdown",
      "source": [
        "3.2.4. Пример\n",
        "\n",
        "Задача:\n",
        "Вывести на экран числа от 1 до 105 с шагом 25, используя функцию"
      ],
      "metadata": {
        "id": "8VKWcjJrDemw"
      }
    },
    {
      "cell_type": "code",
      "source": [
        "for i in range(1, 106, 25):\n",
        "    print(i)"
      ],
      "metadata": {
        "id": "Xl3RUXEcnOzk",
        "colab": {
          "base_uri": "https://localhost:8080/"
        },
        "outputId": "9e9f29dc-1e54-4e2e-f813-aee4c07b9b80"
      },
      "execution_count": 23,
      "outputs": [
        {
          "output_type": "stream",
          "name": "stdout",
          "text": [
            "1\n",
            "26\n",
            "51\n",
            "76\n",
            "101\n"
          ]
        }
      ]
    },
    {
      "cell_type": "markdown",
      "source": [
        "3.2.5. Пример\n",
        "\n",
        "Задача:\n",
        "Срез. Необходимо получить каждый k-й элемент массива a, начиная с\n",
        "элемента с индексом i (включительно) и заканчивая элементом с\n",
        "индексом j (не включительно), c шагом 2. Или переставить все\n",
        "элементы в обратном порядке."
      ],
      "metadata": {
        "id": "tGacX3qJDe81"
      }
    },
    {
      "cell_type": "code",
      "source": [
        "a=[1,2,3,4,5,6,7,8,9]\n",
        "b = a[1:7:2]\n",
        "c=a[::-1]\n",
        "print(b)\n",
        "print(c)"
      ],
      "metadata": {
        "id": "Ft2OGazYnYDn",
        "colab": {
          "base_uri": "https://localhost:8080/"
        },
        "outputId": "53865985-8538-4853-fec2-3499306d43b1"
      },
      "execution_count": 9,
      "outputs": [
        {
          "output_type": "stream",
          "name": "stdout",
          "text": [
            "[2, 4, 6]\n",
            "[9, 8, 7, 6, 5, 4, 3, 2, 1]\n"
          ]
        }
      ]
    },
    {
      "cell_type": "markdown",
      "source": [
        "3.3.1 Задание\n",
        "\n",
        "Задача:\n",
        "Выведите числа из примера на while (3.2.1) в обратном порядке."
      ],
      "metadata": {
        "id": "XseoD6M2DfOo"
      }
    },
    {
      "cell_type": "code",
      "source": [
        "x=10\n",
        "while x>=1:\n",
        "    print(x)\n",
        "    x-=3"
      ],
      "metadata": {
        "id": "U_rwg6GSoZiL",
        "colab": {
          "base_uri": "https://localhost:8080/"
        },
        "outputId": "b3f97387-b48f-477b-e3bf-893007ec0b72"
      },
      "execution_count": 13,
      "outputs": [
        {
          "output_type": "stream",
          "name": "stdout",
          "text": [
            "10\n",
            "7\n",
            "4\n",
            "1\n"
          ]
        }
      ]
    },
    {
      "cell_type": "markdown",
      "source": [
        "3.3.2 Задание\n",
        "\n",
        "Задача:\n",
        "При решении задач машинного обучения часто в качестве объектов\n",
        "исследования выступает человек. Создайте список значимых\n",
        "характеристик (признаков), идентифицирующих человека. Выведите\n",
        "список на экран."
      ],
      "metadata": {
        "id": "2hJryo44Dfpc"
      }
    },
    {
      "cell_type": "code",
      "source": [
        "chelovek = [ 'возраст', 'инициалы', 'пол', 'год рождения']\n",
        "for chelovek in chelovek:\n",
        "    print(chelovek)"
      ],
      "metadata": {
        "id": "pVneArvKodCs",
        "colab": {
          "base_uri": "https://localhost:8080/"
        },
        "outputId": "83df0e78-5b6b-4558-dafd-41b1497a9ea5"
      },
      "execution_count": 24,
      "outputs": [
        {
          "output_type": "stream",
          "name": "stdout",
          "text": [
            "возраст\n",
            "инициалы\n",
            "пол\n",
            "год рождения\n"
          ]
        }
      ]
    },
    {
      "cell_type": "markdown",
      "source": [
        "3.3.3 Задание\n",
        "\n",
        "Задача:\n",
        "Создать список чисел от 2 до 15 с шагом 1."
      ],
      "metadata": {
        "id": "vYnshbD6DgDd"
      }
    },
    {
      "cell_type": "code",
      "source": [
        "list_int = range(2,15,1)\n",
        "print(list(list_int))"
      ],
      "metadata": {
        "id": "eY8MyHf7ohOC",
        "colab": {
          "base_uri": "https://localhost:8080/"
        },
        "outputId": "54aaea22-1e3b-4997-d3f3-539eb85b9e09"
      },
      "execution_count": 27,
      "outputs": [
        {
          "output_type": "stream",
          "name": "stdout",
          "text": [
            "[2, 3, 4, 5, 6, 7, 8, 9, 10, 11, 12, 13, 14]\n"
          ]
        }
      ]
    },
    {
      "cell_type": "markdown",
      "source": [
        "3.3.4 Задание\n",
        "\n",
        "Задача:\n",
        "Выведите числа из примера на for c функцией range() (3.2.4) в\n",
        "обратном порядке."
      ],
      "metadata": {
        "id": "VLKxiv3dDgoW"
      }
    },
    {
      "cell_type": "code",
      "source": [
        "for i in range (105, 4, -25):\n",
        "    print(i)"
      ],
      "metadata": {
        "id": "jM6HzZtHokha",
        "colab": {
          "base_uri": "https://localhost:8080/"
        },
        "outputId": "a1851677-e7cc-4696-9fa7-2a573fdfacdf"
      },
      "execution_count": 28,
      "outputs": [
        {
          "output_type": "stream",
          "name": "stdout",
          "text": [
            "105\n",
            "80\n",
            "55\n",
            "30\n",
            "5\n"
          ]
        }
      ]
    },
    {
      "cell_type": "markdown",
      "source": [
        "3.3.5 Задание\n",
        "\n",
        "Задача:\n",
        "Срез. Напишите код, который все элементы массива x с четными\n",
        "индексами переставит в обратном порядке. Т.е. если x = [0, 1, 2, 3, 4,\n",
        "5, 6, 7, 8, 9], то код должен сформировать [8, 1, 6, 3, 4, 5, 2, 7, 0, 9]."
      ],
      "metadata": {
        "id": "_bdNqOYgDhh6"
      }
    },
    {
      "cell_type": "code",
      "source": [
        "x = [0, 1, 2, 3, 4, 5, 6, 7, 8, 9]\n",
        "x[0:: 2] = reversed(x[0:: 2])\n",
        "print(x)"
      ],
      "metadata": {
        "id": "OCpi0PDLonP5",
        "colab": {
          "base_uri": "https://localhost:8080/"
        },
        "outputId": "02bbfa80-af3d-4ef0-d66c-2b5e53a77d90"
      },
      "execution_count": 29,
      "outputs": [
        {
          "output_type": "stream",
          "name": "stdout",
          "text": [
            "[8, 1, 6, 3, 4, 5, 2, 7, 0, 9]\n"
          ]
        }
      ]
    },
    {
      "cell_type": "markdown",
      "source": [
        "4.1. Теоретический материал - Библиотеки\n",
        "Машинное обучение опирается на фундаментальные понятия и законы\n",
        "математики и информатики. Библиотека математических функций (math)\n",
        "применяется при решении большинства прикладных задач анализа данных.\n",
        "Также, и некоторые другие библиотеки Python содержат математические\n",
        "функции (например, NumPy). Важную роль играет библиотека matplotlib,\n",
        "которая позволяет производить визуализацию расчетов в удобной для\n",
        "восприятия человеком форме: графики, диаграммы, гистограммы.\n",
        "Подключение библиотек – синтаксис:\n",
        "import math as m\n",
        "import numpy as np\n",
        "import matplotlib.pyplot as plt\n",
        "etc…\n",
        "Библиотеки в python содержат не только функции, позволяющие решать\n",
        "различные задачи, но и некоторые популярные константы, например число\n",
        "Эйлера."
      ],
      "metadata": {
        "id": "x9CtgjA6opRn"
      }
    },
    {
      "cell_type": "markdown",
      "source": [
        "4.2.1 Пример\n",
        "\n",
        "Задача:\n",
        "Рассчитать синус от е радиан и вывести результат на экран"
      ],
      "metadata": {
        "id": "h0hIPOhJEHpd"
      }
    },
    {
      "cell_type": "code",
      "source": [
        "import math as m\n",
        "print (m.sin(m.e))"
      ],
      "metadata": {
        "id": "o8-o2YEIosjv",
        "colab": {
          "base_uri": "https://localhost:8080/"
        },
        "outputId": "26634acb-decf-4832-b65a-8a24d908d47f"
      },
      "execution_count": 30,
      "outputs": [
        {
          "output_type": "stream",
          "name": "stdout",
          "text": [
            "0.41078129050290885\n"
          ]
        }
      ]
    },
    {
      "cell_type": "markdown",
      "source": [
        "4.2.2 Пример\n",
        "\n",
        "Задача:\n",
        "Для функции sin(𝑥𝑒\n",
        "cos(𝑥)\n",
        ") на интервале [0;10] с шагом 0,05 построить\n",
        "график функции, закрасить площадь под ним и вычислить значение\n",
        "этой площади.\n",
        "Для вычисления площади воспользуйте функции trapz(), вычисляющей\n",
        "интеграл по правилу трапеции. Для ее корректной работы необходимо\n",
        "подключить следующие библиотеки:\n",
        "from scipy.integrate import simps\n",
        "from numpy import trapz\n"
      ],
      "metadata": {
        "id": "3jCAR_lTpKbw"
      }
    },
    {
      "cell_type": "code",
      "source": [
        "import numpy as np\n",
        "import matplotlib.pyplot as plt \n",
        "from scipy.integrate import simps\n",
        "from numpy import trapz\n",
        "x=np.arange(0.0,10,0.1)\n",
        "y=np.abs(np.sin(x*np.exp(np.cos(x))))\n",
        "plt.grid()\n",
        "plt.plot (x,y,c = \"r\")\n",
        "plt.fill_between (x,y)\n",
        "area = trapz(y)\n",
        "print (area)"
      ],
      "metadata": {
        "id": "Ak_HZRG8pMpU",
        "colab": {
          "base_uri": "https://localhost:8080/",
          "height": 282
        },
        "outputId": "90f111e6-65ea-4767-b816-34decb53a6da"
      },
      "execution_count": 32,
      "outputs": [
        {
          "output_type": "stream",
          "name": "stdout",
          "text": [
            "73.50792907748662\n"
          ]
        },
        {
          "output_type": "display_data",
          "data": {
            "text/plain": [
              "<Figure size 432x288 with 1 Axes>"
            ],
            "image/png": "[encoded data removed]"
          },
          "metadata": {
            "needs_background": "light"
          }
        }
      ]
    },
    {
      "cell_type": "markdown",
      "source": [
        "4.2.3 Пример\n",
        "\n",
        "Задача:\n",
        "Дано некоторое распределение оценок в группе за экзамен. Нарисовать\n",
        "круговую и точечную диаграммы распределения. *Курсив*"
      ],
      "metadata": {
        "id": "4BpjFMN-DijV"
      }
    },
    {
      "cell_type": "code",
      "source": [
        "from matplotlib import pyplot as plt\n",
        "import numpy as np\n",
        "\n",
        "marks=['Неуд','Удовл','Хор','Отл']\n",
        "\n",
        "data= [3,7,8,4]\n",
        "fig= plt.figure(figsize=(10,7))\n",
        "plt.pie(data, labels= marks)\n",
        "plt.show()\n",
        "plt.grid()\n",
        "plt.scatter(marks,data)"
      ],
      "metadata": {
        "id": "M-3JLaQprP3Z",
        "colab": {
          "base_uri": "https://localhost:8080/",
          "height": 676
        },
        "outputId": "4ab0eb17-4ded-483a-d85f-dd4a4b54b787"
      },
      "execution_count": 33,
      "outputs": [
        {
          "output_type": "display_data",
          "data": {
            "text/plain": [
              "<Figure size 720x504 with 1 Axes>"
            ],
            "image/png": "[encoded data removed]"
          },
          "metadata": {}
        },
        {
          "output_type": "execute_result",
          "data": {
            "text/plain": [
              "<matplotlib.collections.PathCollection at 0x7f0f5643f6a0>"
            ]
          },
          "metadata": {},
          "execution_count": 33
        },
        {
          "output_type": "display_data",
          "data": {
            "text/plain": [
              "<Figure size 432x288 with 1 Axes>"
            ],
            "image/png": "[encoded data removed]"
          },
          "metadata": {
            "needs_background": "light"
          }
        }
      ]
    },
    {
      "cell_type": "markdown",
      "source": [
        "4.3.1 Задание\n",
        "1. Задача:\n",
        "Задайте массив случайных значений из интервала(0; 1).\n",
        "Рассчитайте средние и медианные значения для массива, сравните\n",
        "результаты, какие выводы можно сделать о значениях?\n",
        "Постройте точечную диаграмму рассения полученного ряда."
      ],
      "metadata": {
        "id": "mNbgwAvxDjBE"
      }
    },
    {
      "cell_type": "code",
      "source": [
        "import numpy as nump\n",
        "from matplotlib import pyplot as plot\n",
        "import random\n",
        "\n",
        "data = []\n",
        "for i in range(10):\n",
        "    data.append(random.random())\n",
        "average = nump.average(data)\n",
        "print(f\"AVG: {average}\")\n",
        "med = nump.median(data)\n",
        "print(f\"MED: {med}\")\n",
        "plot.grid()\n",
        "plot.scatter(data,data)"
      ],
      "metadata": {
        "id": "jWGlvBZBsCof",
        "colab": {
          "base_uri": "https://localhost:8080/",
          "height": 317
        },
        "outputId": "cf048806-a1d7-4416-f1e4-826973e1f50b"
      },
      "execution_count": 35,
      "outputs": [
        {
          "output_type": "stream",
          "name": "stdout",
          "text": [
            "AVG: 0.5746749825704215\n",
            "MED: 0.6291782317799653\n"
          ]
        },
        {
          "output_type": "execute_result",
          "data": {
            "text/plain": [
              "<matplotlib.collections.PathCollection at 0x7f0f563d8e80>"
            ]
          },
          "metadata": {},
          "execution_count": 35
        },
        {
          "output_type": "display_data",
          "data": {
            "text/plain": [
              "<Figure size 432x288 with 1 Axes>"
            ],
            "image/png": "[encoded data removed]"
          },
          "metadata": {
            "needs_background": "light"
          }
        }
      ]
    },
    {
      "cell_type": "markdown",
      "source": [
        "4.3.2 Задание\n",
        "1. Задача:\n",
        "Дана функция f(x)\n",
        "Создать массив из 10 значений\n",
        "функции (𝑥, например, изменяется от 1 до 10). Выделить срез первой\n",
        "половины массива и построить графики для основного массива –\n",
        "линейный и для среза – точечный"
      ],
      "metadata": {
        "id": "ey_8zzuJDjhI"
      }
    },
    {
      "cell_type": "code",
      "source": [
        "%matplotlib inline\n",
        "from matplotlib import pyplot as plt\n",
        "import numpy as np\n",
        "from scipy. integrate import simps\n",
        "from numpy import trapz\n",
        "import random\n",
        "n, m = 1, 10\n",
        "x = np. abs( [random. randint(1, 10) for _ in range(m) for _ in range(n)])\n",
        "print (\" x\", x)\n",
        "y = np. abs(((np. sqrt(1+np. exp(np. sqrt(x))+np. cos(x**2)))/(np. fabs(1-(np. sin(x))**3)))+np. log(np. fabs(2*x)))\n",
        "print (\" y\", y)\n",
        "x2 = x[0: 5: 1]\n",
        "print (\" x2\", x2)\n",
        "y2 = np. abs(((np. sqrt(1+np. exp(np. sqrt(x2))+np. cos(x2**2)))/(np. fabs(1-(np. sin(x2))**3)))+np. log(np. fabs(2*x2)))\n",
        "print (\" y2\", y2)\n",
        "plt. grid()\n",
        "plt. plot(x, y)\n",
        "#plt. fill_between(x, y)\n",
        "plt. show()\n",
        "plt. grid()\n",
        "plt. scatter (x2, y2)"
      ],
      "metadata": {
        "id": "VIRvPTIdsEzp",
        "colab": {
          "base_uri": "https://localhost:8080/",
          "height": 617
        },
        "outputId": "56eb2352-c114-49a0-cec5-5fed5ff92cc1"
      },
      "execution_count": 36,
      "outputs": [
        {
          "output_type": "stream",
          "name": "stdout",
          "text": [
            " x [8 1 6 5 3 2 1 9 9 3]\n",
            " y [138.24401825   5.7989175    5.93865315   4.09272906   4.19457227\n",
            "   9.89559083   5.7989175    7.91798452   7.91798452   4.19457227]\n",
            " x2 [8 1 6 5 3]\n",
            " y2 [138.24401825   5.7989175    5.93865315   4.09272906   4.19457227]\n"
          ]
        },
        {
          "output_type": "display_data",
          "data": {
            "text/plain": [
              "<Figure size 432x288 with 1 Axes>"
            ],
            "image/png": "[encoded data removed]"
          },
          "metadata": {
            "needs_background": "light"
          }
        },
        {
          "output_type": "execute_result",
          "data": {
            "text/plain": [
              "<matplotlib.collections.PathCollection at 0x7f0f56368190>"
            ]
          },
          "metadata": {},
          "execution_count": 36
        },
        {
          "output_type": "display_data",
          "data": {
            "text/plain": [
              "<Figure size 432x288 with 1 Axes>"
            ],
            "image/png": "[encoded data removed]"
          },
          "metadata": {
            "needs_background": "light"
          }
        }
      ]
    },
    {
      "cell_type": "markdown",
      "source": [
        "4.3.3 Задание\n",
        "1. Задача:\n",
        "Дана функция |cos(𝑥𝑒^(cos(𝑥)+ln(𝑥+1))\n",
        ")| Построить график на\n",
        "интервале (0,10) с шагом 1 с заливкой площади и найти эту площадь\n",
        "под ним. Для вычисления площади воспользуйте функции trapz(),\n",
        "вычисляющей интеграл по правилу трапеции.\n",
        "Для ее корректной работы необходимо подключить следующие\n",
        "библиотеки:\n",
        "from scipy.integrate import simps\n",
        "from numpy import trapz"
      ],
      "metadata": {
        "id": "O0RK8aZcDj8g"
      }
    },
    {
      "cell_type": "code",
      "source": [
        "import numpy as n\n",
        "import matplotlib.pyplot as plot\n",
        "from scipy.integrate import simps\n",
        "from numpy import trapz\n",
        "def f(x):\n",
        "    internal = n.cos(x)+n.log(x+1)\n",
        "    xe = x*n.power(n.e,internal)\n",
        "    return n.abs(n.cos(xe))\n",
        "data = []\n",
        "for i in range(11):\n",
        "    data.append(f(i))\n",
        "plot.grid()\n",
        "plot.plot(range(0,11),data)\n",
        "plot.fill_between(range(0,11),data)\n",
        "plot.show()\n",
        "area = trapz(data)\n",
        "print(area)"
      ],
      "metadata": {
        "id": "s4l0diKxsWqU",
        "colab": {
          "base_uri": "https://localhost:8080/",
          "height": 282
        },
        "outputId": "bee26a73-88a3-466d-f14b-db783945e1ab"
      },
      "execution_count": 38,
      "outputs": [
        {
          "output_type": "display_data",
          "data": {
            "text/plain": [
              "<Figure size 432x288 with 1 Axes>"
            ],
            "image/png": "[encoded data removed]"
          },
          "metadata": {
            "needs_background": "light"
          }
        },
        {
          "output_type": "stream",
          "name": "stdout",
          "text": [
            "6.748183214657723\n"
          ]
        }
      ]
    },
    {
      "cell_type": "markdown",
      "source": [
        "4.3.4 Задание\n",
        "1. Задача:\n",
        "Откройте статистические данные по стоимости акций Apple,\n",
        "Microsoft, Google за 12 месяцев 2021 г. Постройте 3 графика на\n",
        "плоскости и оцените их динамику. Подумайте, как можно улучшить\n",
        "читаемость результатов.\n",
        "Для начальных данных допустимо использовать следующий ресурс:\n",
        "https://finance.yahoo.com"
      ],
      "metadata": {
        "id": "meP9XRjJDkoD"
      }
    },
    {
      "cell_type": "code",
      "source": [
        "import numpy as nump\n",
        "import matplotlib.pyplot as plot\n",
        "import requests\n",
        "\n",
        "token = \"5a0c359de60c08be3f7850773bd90c9f\"\n",
        "papers = [\"GOOG\",\"AAPL\",\"MSFT\"]\n",
        "\n",
        "for paper in papers:\n",
        "    response = requests.get(f\"https://financialmodelingprep.com/api/v3/historical-price-full/{paper}?from=2021-01-01&to=2021-12-31&apikey={token}\").json()\n",
        "    data = []\n",
        "    dates = []\n",
        "    for line in response[\"historical\"]:\n",
        "        data.append(line[\"adjClose\"])\n",
        "        dates.append(line[\"date\"])\n",
        "    data=data[::-1]\n",
        "    dates=dates[::-1]\n",
        "    print(\"компания:   \",paper)\n",
        "    print(\"максимум:   \",nump.max(data))\n",
        "    print(\"минимум:    \",nump.min(data))\n",
        "    print(\"общий рост: \",data[len(data)-1]-data[0])\n",
        "    plot.grid()\n",
        "    plot.plot(dates,data,label=\"Стоимость\")\n",
        "    plot.xticks(nump.arange(0, len(dates), 14),rotation=270)\n",
        "    plot.legend(loc=\"upper left\") \n",
        "    plot.show()"
      ],
      "metadata": {
        "id": "oPuxciH7sdxy",
        "colab": {
          "base_uri": "https://localhost:8080/",
          "height": 1000
        },
        "outputId": "b68a1f4e-1814-4e13-ceb3-c0a0e2edc0bf"
      },
      "execution_count": 40,
      "outputs": [
        {
          "output_type": "stream",
          "name": "stdout",
          "text": [
            "компания:    GOOG\n",
            "максимум:    150.709\n",
            "минимум:     86.412003\n",
            "общий рост:  58.26750100000001\n"
          ]
        },
        {
          "output_type": "display_data",
          "data": {
            "text/plain": [
              "<Figure size 432x288 with 1 Axes>"
            ],
            "image/png": "[encoded data removed]"
          },
          "metadata": {
            "needs_background": "light"
          }
        },
        {
          "output_type": "stream",
          "name": "stdout",
          "text": [
            "компания:    AAPL\n",
            "максимум:    179.016129\n",
            "минимум:     114.976006\n",
            "общий рост:  48.596222\n"
          ]
        },
        {
          "output_type": "display_data",
          "data": {
            "text/plain": [
              "<Figure size 432x288 with 1 Axes>"
            ],
            "image/png": "[encoded data removed]"
          },
          "metadata": {
            "needs_background": "light"
          }
        },
        {
          "output_type": "stream",
          "name": "stdout",
          "text": [
            "компания:    MSFT\n",
            "максимум:    339.075592\n",
            "минимум:     208.010651\n",
            "общий рост:  119.02342200000001\n"
          ]
        },
        {
          "output_type": "display_data",
          "data": {
            "text/plain": [
              "<Figure size 432x288 with 1 Axes>"
            ],
            "image/png": "[encoded data removed]"
          },
          "metadata": {
            "needs_background": "light"
          }
        }
      ]
    },
    {
      "cell_type": "markdown",
      "source": [
        "4.3.5 Задание\n",
        "1. Задача:\n",
        "Создайте простейший калькулятор, включающий основные действия\n",
        "для двух переменных ′ + ′, ′ − ′, ′ ∙ ′, ′ ÷ ′, а также вычисление\n",
        "следующих функций: f(x)"
      ],
      "metadata": {
        "id": "mLM8ewNODlE1"
      }
    },
    {
      "cell_type": "code",
      "source": [
        "import numpy as nump\n",
        "x = float(input(\"x=\"))\n",
        "y = float(input(\"y=\"))\n",
        "s = int(input(\"Знак (1,2,3,4,5,6,7,8): \"))\n",
        "if   s == 1:\n",
        "    print(x+y)\n",
        "elif s == 2:\n",
        "    print(x-y)\n",
        "elif s == 3:\n",
        "    print(x*y)\n",
        "elif s == 4:\n",
        "  print(x*y)\n",
        "elif s == 5:\n",
        "  print(nump.power(nump.e,x+y))\n",
        "elif s == 6:\n",
        "  print(nump.sin(x+y))\n",
        "elif s == 7:\n",
        "  print(nump.cos(x+y))\n",
        "elif s == 8:\n",
        "  print(nump.power(x,y))"
      ],
      "metadata": {
        "id": "m2OUG3oisf8p",
        "colab": {
          "base_uri": "https://localhost:8080/"
        },
        "outputId": "056a9cc7-7331-4134-a12d-4fdbda258f4b"
      },
      "execution_count": 41,
      "outputs": [
        {
          "output_type": "stream",
          "name": "stdout",
          "text": [
            "x=5\n",
            "y=5\n",
            "Знак (1,2,3,4,5,6,7,8): 6\n",
            "-0.5440211108893698\n"
          ]
        }
      ]
    }
  ]
}